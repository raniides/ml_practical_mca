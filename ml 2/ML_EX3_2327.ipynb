{
 "cells": [
  {
   "cell_type": "code",
   "execution_count": 1,
   "id": "510b9031-9162-4d0f-b099-98d1df55eb75",
   "metadata": {},
   "outputs": [
    {
     "name": "stderr",
     "output_type": "stream",
     "text": [
      "2024-02-22 16:33:18.077076: I external/local_tsl/tsl/cuda/cudart_stub.cc:31] Could not find cuda drivers on your machine, GPU will not be used.\n",
      "2024-02-22 16:33:18.574733: E external/local_xla/xla/stream_executor/cuda/cuda_dnn.cc:9261] Unable to register cuDNN factory: Attempting to register factory for plugin cuDNN when one has already been registered\n",
      "2024-02-22 16:33:18.574851: E external/local_xla/xla/stream_executor/cuda/cuda_fft.cc:607] Unable to register cuFFT factory: Attempting to register factory for plugin cuFFT when one has already been registered\n",
      "2024-02-22 16:33:18.655475: E external/local_xla/xla/stream_executor/cuda/cuda_blas.cc:1515] Unable to register cuBLAS factory: Attempting to register factory for plugin cuBLAS when one has already been registered\n",
      "2024-02-22 16:33:18.833738: I external/local_tsl/tsl/cuda/cudart_stub.cc:31] Could not find cuda drivers on your machine, GPU will not be used.\n",
      "2024-02-22 16:33:18.838640: I tensorflow/core/platform/cpu_feature_guard.cc:182] This TensorFlow binary is optimized to use available CPU instructions in performance-critical operations.\n",
      "To enable the following instructions: AVX2 AVX512F FMA, in other operations, rebuild TensorFlow with the appropriate compiler flags.\n",
      "2024-02-22 16:33:21.441301: W tensorflow/compiler/tf2tensorrt/utils/py_utils.cc:38] TF-TRT Warning: Could not find TensorRT\n"
     ]
    }
   ],
   "source": [
    "import pandas as pd\n",
    "from sklearn.model_selection import train_test_split\n",
    "from sklearn.preprocessing import StandardScaler\n",
    "from tensorflow.keras.models import Sequential, load_model\n",
    "from tensorflow.keras.layers import Dense\n",
    "from sklearn.metrics import accuracy_score, confusion_matrix"
   ]
  },
  {
   "cell_type": "code",
   "execution_count": 16,
   "id": "7fb335a6-a61a-494a-be7f-5da3ab6e6ecf",
   "metadata": {},
   "outputs": [
    {
     "data": {
      "text/html": [
       "<div>\n",
       "<style scoped>\n",
       "    .dataframe tbody tr th:only-of-type {\n",
       "        vertical-align: middle;\n",
       "    }\n",
       "\n",
       "    .dataframe tbody tr th {\n",
       "        vertical-align: top;\n",
       "    }\n",
       "\n",
       "    .dataframe thead th {\n",
       "        text-align: right;\n",
       "    }\n",
       "</style>\n",
       "<table border=\"1\" class=\"dataframe\">\n",
       "  <thead>\n",
       "    <tr style=\"text-align: right;\">\n",
       "      <th></th>\n",
       "      <th>Area</th>\n",
       "      <th>Perimeter</th>\n",
       "      <th>Major_Axis_Length</th>\n",
       "      <th>Minor_Axis_Length</th>\n",
       "      <th>Eccentricity\\t</th>\n",
       "      <th>Convex_Area</th>\n",
       "      <th>Extent</th>\n",
       "      <th>Class</th>\n",
       "    </tr>\n",
       "  </thead>\n",
       "  <tbody>\n",
       "    <tr>\n",
       "      <th>0</th>\n",
       "      <td>15231</td>\n",
       "      <td>525.578979</td>\n",
       "      <td>229.749878</td>\n",
       "      <td>85.093788</td>\n",
       "      <td>0.928882</td>\n",
       "      <td>15617</td>\n",
       "      <td>0.572896</td>\n",
       "      <td>Cammeo</td>\n",
       "    </tr>\n",
       "    <tr>\n",
       "      <th>1</th>\n",
       "      <td>14656</td>\n",
       "      <td>494.311005</td>\n",
       "      <td>206.020065</td>\n",
       "      <td>91.730972</td>\n",
       "      <td>0.895405</td>\n",
       "      <td>15072</td>\n",
       "      <td>0.615436</td>\n",
       "      <td>Cammeo</td>\n",
       "    </tr>\n",
       "    <tr>\n",
       "      <th>2</th>\n",
       "      <td>14634</td>\n",
       "      <td>501.122009</td>\n",
       "      <td>214.106781</td>\n",
       "      <td>87.768288</td>\n",
       "      <td>0.912118</td>\n",
       "      <td>14954</td>\n",
       "      <td>0.693259</td>\n",
       "      <td>Cammeo</td>\n",
       "    </tr>\n",
       "    <tr>\n",
       "      <th>3</th>\n",
       "      <td>13176</td>\n",
       "      <td>458.342987</td>\n",
       "      <td>193.337387</td>\n",
       "      <td>87.448395</td>\n",
       "      <td>0.891861</td>\n",
       "      <td>13368</td>\n",
       "      <td>0.640669</td>\n",
       "      <td>Cammeo</td>\n",
       "    </tr>\n",
       "    <tr>\n",
       "      <th>4</th>\n",
       "      <td>14688</td>\n",
       "      <td>507.166992</td>\n",
       "      <td>211.743378</td>\n",
       "      <td>89.312454</td>\n",
       "      <td>0.906691</td>\n",
       "      <td>15262</td>\n",
       "      <td>0.646024</td>\n",
       "      <td>Cammeo</td>\n",
       "    </tr>\n",
       "  </tbody>\n",
       "</table>\n",
       "</div>"
      ],
      "text/plain": [
       "   Area   Perimeter    Major_Axis_Length   Minor_Axis_Length   Eccentricity\\t  \\\n",
       "0  15231  525.578979           229.749878          85.093788         0.928882   \n",
       "1  14656  494.311005           206.020065          91.730972         0.895405   \n",
       "2  14634  501.122009           214.106781          87.768288         0.912118   \n",
       "3  13176  458.342987           193.337387          87.448395         0.891861   \n",
       "4  14688  507.166992           211.743378          89.312454         0.906691   \n",
       "\n",
       "   Convex_Area    Extent   Class  \n",
       "0        15617  0.572896  Cammeo  \n",
       "1        15072  0.615436  Cammeo  \n",
       "2        14954  0.693259  Cammeo  \n",
       "3        13368  0.640669  Cammeo  \n",
       "4        15262  0.646024  Cammeo  "
      ]
     },
     "execution_count": 16,
     "metadata": {},
     "output_type": "execute_result"
    }
   ],
   "source": [
    "data = pd.read_csv('Rice_Cammeo_Osmancik.csv')\n",
    "data.head()"
   ]
  },
  {
   "cell_type": "code",
   "execution_count": 18,
   "id": "d580e088-05e2-4365-8ccc-b43956645955",
   "metadata": {},
   "outputs": [],
   "source": [
    "data = data.replace(['Cammeo','Osmancik'] ,[0,1])"
   ]
  },
  {
   "cell_type": "code",
   "execution_count": 34,
   "id": "12ce5822-59f5-4ac9-a302-5d8ca4c84de7",
   "metadata": {},
   "outputs": [],
   "source": [
    "x = data.drop(data.columns[7], axis=1)\n",
    "y = data.iloc[:,7]\n",
    "\n",
    "x_train, x_test , y_train, y_test = train_test_split(x,y,test_size=.2, random_state=45)"
   ]
  },
  {
   "cell_type": "code",
   "execution_count": 36,
   "id": "b0fdd193-68cc-4064-b03d-f5c50502ea3d",
   "metadata": {},
   "outputs": [],
   "source": [
    "sc = StandardScaler()\n",
    "x_train = sc.fit_transform(x_train)\n",
    "x_test = sc.transform(x_test)"
   ]
  },
  {
   "cell_type": "code",
   "execution_count": 38,
   "id": "30fe77c6-f4a7-4670-af04-550f9ed68cee",
   "metadata": {},
   "outputs": [],
   "source": [
    "model = Sequential()\n",
    "model.add(Dense(7,activation='sigmoid'))\n",
    "model.add(Dense(3,activation='sigmoid'))\n",
    "model.add(Dense(1,activation='sigmoid'))"
   ]
  },
  {
   "cell_type": "code",
   "execution_count": 40,
   "id": "17dc33d5-c2c6-4adc-be46-508e98c82fb2",
   "metadata": {},
   "outputs": [],
   "source": [
    "model.compile(optimizer='sgd',loss='binary_crossentropy', metrics=['accuracy'])"
   ]
  },
  {
   "cell_type": "code",
   "execution_count": 42,
   "id": "43f769cf-6528-4829-9475-de09e17b1089",
   "metadata": {},
   "outputs": [
    {
     "name": "stdout",
     "output_type": "stream",
     "text": [
      "Epoch 1/50\n",
      "96/96 [==============================] - 1s 3ms/step - loss: 0.7372 - accuracy: 0.4222 - val_loss: 0.6990 - val_accuracy: 0.4501\n",
      "Epoch 2/50\n",
      "96/96 [==============================] - 0s 2ms/step - loss: 0.6888 - accuracy: 0.4741 - val_loss: 0.6748 - val_accuracy: 0.8530\n",
      "Epoch 3/50\n",
      "96/96 [==============================] - 0s 2ms/step - loss: 0.6680 - accuracy: 0.7497 - val_loss: 0.6645 - val_accuracy: 0.5853\n",
      "Epoch 4/50\n",
      "96/96 [==============================] - 0s 2ms/step - loss: 0.6573 - accuracy: 0.5837 - val_loss: 0.6585 - val_accuracy: 0.5499\n",
      "Epoch 5/50\n",
      "96/96 [==============================] - 0s 2ms/step - loss: 0.6504 - accuracy: 0.5778 - val_loss: 0.6537 - val_accuracy: 0.5499\n",
      "Epoch 6/50\n",
      "96/96 [==============================] - 0s 2ms/step - loss: 0.6447 - accuracy: 0.5778 - val_loss: 0.6489 - val_accuracy: 0.5499\n",
      "Epoch 7/50\n",
      "96/96 [==============================] - 0s 2ms/step - loss: 0.6392 - accuracy: 0.5778 - val_loss: 0.6439 - val_accuracy: 0.5499\n",
      "Epoch 8/50\n",
      "96/96 [==============================] - 0s 4ms/step - loss: 0.6335 - accuracy: 0.5778 - val_loss: 0.6383 - val_accuracy: 0.5499\n",
      "Epoch 9/50\n",
      "96/96 [==============================] - 0s 2ms/step - loss: 0.6276 - accuracy: 0.5781 - val_loss: 0.6323 - val_accuracy: 0.5512\n",
      "Epoch 10/50\n",
      "96/96 [==============================] - 0s 2ms/step - loss: 0.6213 - accuracy: 0.5807 - val_loss: 0.6257 - val_accuracy: 0.5604\n",
      "Epoch 11/50\n",
      "96/96 [==============================] - 0s 2ms/step - loss: 0.6145 - accuracy: 0.5938 - val_loss: 0.6185 - val_accuracy: 0.5827\n",
      "Epoch 12/50\n",
      "96/96 [==============================] - 0s 2ms/step - loss: 0.6073 - accuracy: 0.6224 - val_loss: 0.6109 - val_accuracy: 0.6024\n",
      "Epoch 13/50\n",
      "96/96 [==============================] - 0s 2ms/step - loss: 0.5994 - accuracy: 0.6467 - val_loss: 0.6025 - val_accuracy: 0.6325\n",
      "Epoch 14/50\n",
      "96/96 [==============================] - 0s 2ms/step - loss: 0.5910 - accuracy: 0.6854 - val_loss: 0.5936 - val_accuracy: 0.6811\n",
      "Epoch 15/50\n",
      "96/96 [==============================] - 0s 2ms/step - loss: 0.5820 - accuracy: 0.7300 - val_loss: 0.5841 - val_accuracy: 0.7270\n",
      "Epoch 16/50\n",
      "96/96 [==============================] - 0s 2ms/step - loss: 0.5723 - accuracy: 0.7615 - val_loss: 0.5739 - val_accuracy: 0.7625\n",
      "Epoch 17/50\n",
      "96/96 [==============================] - 0s 2ms/step - loss: 0.5621 - accuracy: 0.7969 - val_loss: 0.5632 - val_accuracy: 0.7940\n",
      "Epoch 18/50\n",
      "96/96 [==============================] - 0s 2ms/step - loss: 0.5512 - accuracy: 0.8104 - val_loss: 0.5516 - val_accuracy: 0.8084\n",
      "Epoch 19/50\n",
      "96/96 [==============================] - 0s 2ms/step - loss: 0.5398 - accuracy: 0.8330 - val_loss: 0.5394 - val_accuracy: 0.8333\n",
      "Epoch 20/50\n",
      "96/96 [==============================] - 0s 2ms/step - loss: 0.5279 - accuracy: 0.8527 - val_loss: 0.5267 - val_accuracy: 0.8543\n",
      "Epoch 21/50\n",
      "96/96 [==============================] - 0s 2ms/step - loss: 0.5154 - accuracy: 0.8694 - val_loss: 0.5137 - val_accuracy: 0.8806\n",
      "Epoch 22/50\n",
      "96/96 [==============================] - 0s 2ms/step - loss: 0.5025 - accuracy: 0.8812 - val_loss: 0.5003 - val_accuracy: 0.8858\n",
      "Epoch 23/50\n",
      "96/96 [==============================] - 0s 2ms/step - loss: 0.4894 - accuracy: 0.8855 - val_loss: 0.4868 - val_accuracy: 0.8858\n",
      "Epoch 24/50\n",
      "96/96 [==============================] - 0s 2ms/step - loss: 0.4760 - accuracy: 0.8894 - val_loss: 0.4727 - val_accuracy: 0.8937\n",
      "Epoch 25/50\n",
      "96/96 [==============================] - 0s 1ms/step - loss: 0.4625 - accuracy: 0.8986 - val_loss: 0.4587 - val_accuracy: 0.8990\n",
      "Epoch 26/50\n",
      "96/96 [==============================] - 0s 2ms/step - loss: 0.4489 - accuracy: 0.9039 - val_loss: 0.4448 - val_accuracy: 0.9068\n",
      "Epoch 27/50\n",
      "96/96 [==============================] - 0s 2ms/step - loss: 0.4356 - accuracy: 0.9058 - val_loss: 0.4311 - val_accuracy: 0.9081\n",
      "Epoch 28/50\n",
      "96/96 [==============================] - 0s 2ms/step - loss: 0.4225 - accuracy: 0.9094 - val_loss: 0.4178 - val_accuracy: 0.9108\n",
      "Epoch 29/50\n",
      "96/96 [==============================] - 0s 1ms/step - loss: 0.4098 - accuracy: 0.9124 - val_loss: 0.4049 - val_accuracy: 0.9134\n",
      "Epoch 30/50\n",
      "96/96 [==============================] - 0s 2ms/step - loss: 0.3974 - accuracy: 0.9140 - val_loss: 0.3923 - val_accuracy: 0.9160\n",
      "Epoch 31/50\n",
      "96/96 [==============================] - 0s 2ms/step - loss: 0.3855 - accuracy: 0.9137 - val_loss: 0.3803 - val_accuracy: 0.9186\n",
      "Epoch 32/50\n",
      "96/96 [==============================] - 0s 2ms/step - loss: 0.3742 - accuracy: 0.9147 - val_loss: 0.3689 - val_accuracy: 0.9199\n",
      "Epoch 33/50\n",
      "96/96 [==============================] - 0s 2ms/step - loss: 0.3634 - accuracy: 0.9157 - val_loss: 0.3582 - val_accuracy: 0.9186\n",
      "Epoch 34/50\n",
      "96/96 [==============================] - 0s 2ms/step - loss: 0.3532 - accuracy: 0.9157 - val_loss: 0.3480 - val_accuracy: 0.9213\n",
      "Epoch 35/50\n",
      "96/96 [==============================] - 0s 2ms/step - loss: 0.3435 - accuracy: 0.9180 - val_loss: 0.3384 - val_accuracy: 0.9213\n",
      "Epoch 36/50\n",
      "96/96 [==============================] - 0s 2ms/step - loss: 0.3345 - accuracy: 0.9180 - val_loss: 0.3293 - val_accuracy: 0.9239\n",
      "Epoch 37/50\n",
      "96/96 [==============================] - 0s 1ms/step - loss: 0.3259 - accuracy: 0.9186 - val_loss: 0.3209 - val_accuracy: 0.9252\n",
      "Epoch 38/50\n",
      "96/96 [==============================] - 0s 2ms/step - loss: 0.3180 - accuracy: 0.9177 - val_loss: 0.3129 - val_accuracy: 0.9265\n",
      "Epoch 39/50\n",
      "96/96 [==============================] - 0s 2ms/step - loss: 0.3105 - accuracy: 0.9183 - val_loss: 0.3054 - val_accuracy: 0.9252\n",
      "Epoch 40/50\n",
      "96/96 [==============================] - 0s 1ms/step - loss: 0.3035 - accuracy: 0.9186 - val_loss: 0.2986 - val_accuracy: 0.9239\n",
      "Epoch 41/50\n",
      "96/96 [==============================] - 0s 1ms/step - loss: 0.2971 - accuracy: 0.9190 - val_loss: 0.2921 - val_accuracy: 0.9239\n",
      "Epoch 42/50\n",
      "96/96 [==============================] - 0s 2ms/step - loss: 0.2910 - accuracy: 0.9190 - val_loss: 0.2861 - val_accuracy: 0.9239\n",
      "Epoch 43/50\n",
      "96/96 [==============================] - 0s 2ms/step - loss: 0.2853 - accuracy: 0.9209 - val_loss: 0.2804 - val_accuracy: 0.9252\n",
      "Epoch 44/50\n",
      "96/96 [==============================] - 0s 2ms/step - loss: 0.2800 - accuracy: 0.9213 - val_loss: 0.2751 - val_accuracy: 0.9252\n",
      "Epoch 45/50\n",
      "96/96 [==============================] - 0s 2ms/step - loss: 0.2751 - accuracy: 0.9219 - val_loss: 0.2703 - val_accuracy: 0.9239\n",
      "Epoch 46/50\n",
      "96/96 [==============================] - 0s 2ms/step - loss: 0.2705 - accuracy: 0.9222 - val_loss: 0.2657 - val_accuracy: 0.9239\n",
      "Epoch 47/50\n",
      "96/96 [==============================] - 0s 1ms/step - loss: 0.2663 - accuracy: 0.9226 - val_loss: 0.2615 - val_accuracy: 0.9226\n",
      "Epoch 48/50\n",
      "96/96 [==============================] - 0s 2ms/step - loss: 0.2623 - accuracy: 0.9236 - val_loss: 0.2576 - val_accuracy: 0.9239\n",
      "Epoch 49/50\n",
      "96/96 [==============================] - 0s 2ms/step - loss: 0.2586 - accuracy: 0.9245 - val_loss: 0.2539 - val_accuracy: 0.9252\n",
      "Epoch 50/50\n",
      "96/96 [==============================] - 0s 2ms/step - loss: 0.2552 - accuracy: 0.9245 - val_loss: 0.2504 - val_accuracy: 0.9252\n"
     ]
    }
   ],
   "source": [
    "history = model.fit(x_train, y_train, epochs=50, batch_size=32, validation_data=(x_test, y_test))"
   ]
  },
  {
   "cell_type": "code",
   "execution_count": 44,
   "id": "430f98f2-9b55-4400-bfab-0e11691898a1",
   "metadata": {},
   "outputs": [
    {
     "name": "stderr",
     "output_type": "stream",
     "text": [
      "Matplotlib is building the font cache; this may take a moment.\n"
     ]
    },
    {
     "data": {
      "image/png": "[encoded data removed]",
      "text/plain": [
       "<Figure size 640x480 with 1 Axes>"
      ]
     },
     "metadata": {},
     "output_type": "display_data"
    }
   ],
   "source": [
    "import matplotlib.pyplot as plt\n",
    "plt.plot(history.history['loss'], label='Training loss')\n",
    "plt.plot(history.history['val_loss'], label='Validation Loss')\n",
    "plt.xlabel('Epoach')\n",
    "plt.ylabel('Loss')\n",
    "plt.title('Training and Validation Loss')\n",
    "plt.legend()\n",
    "plt.show()"
   ]
  },
  {
   "cell_type": "code",
   "execution_count": 46,
   "id": "10c75848-b8e6-4e43-a9ba-98203615b6f4",
   "metadata": {},
   "outputs": [
    {
     "name": "stdout",
     "output_type": "stream",
     "text": [
      "24/24 [==============================] - 0s 1ms/step\n"
     ]
    },
    {
     "data": {
      "text/plain": [
       "0.9251968503937008"
      ]
     },
     "execution_count": 46,
     "metadata": {},
     "output_type": "execute_result"
    }
   ],
   "source": [
    "y_pred = model.predict(x_test)\n",
    "y_pred = [0 if val <0.5 else 1 for val in y_pred]\n",
    "accuracy_score(y_test, y_pred)"
   ]
  },
  {
   "cell_type": "code",
   "execution_count": 48,
   "id": "ffa4443b-2d57-4fc5-b206-5c2adc712257",
   "metadata": {},
   "outputs": [
    {
     "name": "stdout",
     "output_type": "stream",
     "text": [
      "INFO:tensorflow:Assets written to: rice sigmoid/assets\n"
     ]
    },
    {
     "name": "stderr",
     "output_type": "stream",
     "text": [
      "INFO:tensorflow:Assets written to: rice sigmoid/assets\n"
     ]
    }
   ],
   "source": [
    "model.save('rice sigmoid')"
   ]
  },
  {
   "cell_type": "code",
   "execution_count": 50,
   "id": "98ab147d-58ab-440c-bb8a-5e45f5cf7867",
   "metadata": {},
   "outputs": [],
   "source": [
    "matrix = confusion_matrix(y_test, y_pred)"
   ]
  },
  {
   "cell_type": "code",
   "execution_count": 52,
   "id": "455192bc-f1f7-4854-acbd-a707b6a9404a",
   "metadata": {},
   "outputs": [
    {
     "data": {
      "text/plain": [
       "array([[307,  36],\n",
       "       [ 21, 398]])"
      ]
     },
     "execution_count": 52,
     "metadata": {},
     "output_type": "execute_result"
    }
   ],
   "source": [
    "matrix"
   ]
  },
  {
   "cell_type": "code",
   "execution_count": null,
   "id": "0e4dd7dd-0e43-49b1-8b48-2287f5bd547a",
   "metadata": {},
   "outputs": [],
   "source": []
  }
 ],
 "metadata": {
  "kernelspec": {
   "display_name": "Python 3 (ipykernel)",
   "language": "python",
   "name": "python3"
  },
  "language_info": {
   "codemirror_mode": {
    "name": "ipython",
    "version": 3
   },
   "file_extension": ".py",
   "mimetype": "text/x-python",
   "name": "python",
   "nbconvert_exporter": "python",
   "pygments_lexer": "ipython3",
   "version": "3.11.7"
  }
 },
 "nbformat": 4,
 "nbformat_minor": 5
}
