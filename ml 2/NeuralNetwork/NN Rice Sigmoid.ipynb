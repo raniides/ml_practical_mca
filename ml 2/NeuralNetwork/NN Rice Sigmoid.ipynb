{
 "cells": [
  {
   "cell_type": "code",
   "execution_count": 2,
   "id": "e2a1196b",
   "metadata": {},
   "outputs": [
    {
     "name": "stdout",
     "output_type": "stream",
     "text": [
      "WARNING:tensorflow:From C:\\Users\\Student\\anaconda3\\Lib\\site-packages\\keras\\src\\losses.py:2976: The name tf.losses.sparse_softmax_cross_entropy is deprecated. Please use tf.compat.v1.losses.sparse_softmax_cross_entropy instead.\n",
      "\n"
     ]
    }
   ],
   "source": [
    "import pandas as pd\n",
    "from sklearn.model_selection import train_test_split\n",
    "from sklearn.preprocessing import StandardScaler\n",
    "from tensorflow.keras.models import Sequential, load_model\n",
    "from tensorflow.keras.layers import Dense\n",
    "from sklearn.metrics import accuracy_score, confusion_matrix"
   ]
  },
  {
   "cell_type": "code",
   "execution_count": 3,
   "id": "9193b66c",
   "metadata": {},
   "outputs": [
    {
     "data": {
      "text/html": [
       "<div>\n",
       "<style scoped>\n",
       "    .dataframe tbody tr th:only-of-type {\n",
       "        vertical-align: middle;\n",
       "    }\n",
       "\n",
       "    .dataframe tbody tr th {\n",
       "        vertical-align: top;\n",
       "    }\n",
       "\n",
       "    .dataframe thead th {\n",
       "        text-align: right;\n",
       "    }\n",
       "</style>\n",
       "<table border=\"1\" class=\"dataframe\">\n",
       "  <thead>\n",
       "    <tr style=\"text-align: right;\">\n",
       "      <th></th>\n",
       "      <th>Area</th>\n",
       "      <th>Perimeter</th>\n",
       "      <th>Major_Axis_Length</th>\n",
       "      <th>Minor_Axis_Length</th>\n",
       "      <th>Eccentricity\\t</th>\n",
       "      <th>Convex_Area</th>\n",
       "      <th>Extent</th>\n",
       "      <th>Class</th>\n",
       "    </tr>\n",
       "  </thead>\n",
       "  <tbody>\n",
       "    <tr>\n",
       "      <th>0</th>\n",
       "      <td>15231</td>\n",
       "      <td>525.578979</td>\n",
       "      <td>229.749878</td>\n",
       "      <td>85.093788</td>\n",
       "      <td>0.928882</td>\n",
       "      <td>15617</td>\n",
       "      <td>0.572896</td>\n",
       "      <td>Cammeo</td>\n",
       "    </tr>\n",
       "    <tr>\n",
       "      <th>1</th>\n",
       "      <td>14656</td>\n",
       "      <td>494.311005</td>\n",
       "      <td>206.020065</td>\n",
       "      <td>91.730972</td>\n",
       "      <td>0.895405</td>\n",
       "      <td>15072</td>\n",
       "      <td>0.615436</td>\n",
       "      <td>Cammeo</td>\n",
       "    </tr>\n",
       "    <tr>\n",
       "      <th>2</th>\n",
       "      <td>14634</td>\n",
       "      <td>501.122009</td>\n",
       "      <td>214.106781</td>\n",
       "      <td>87.768288</td>\n",
       "      <td>0.912118</td>\n",
       "      <td>14954</td>\n",
       "      <td>0.693259</td>\n",
       "      <td>Cammeo</td>\n",
       "    </tr>\n",
       "    <tr>\n",
       "      <th>3</th>\n",
       "      <td>13176</td>\n",
       "      <td>458.342987</td>\n",
       "      <td>193.337387</td>\n",
       "      <td>87.448395</td>\n",
       "      <td>0.891861</td>\n",
       "      <td>13368</td>\n",
       "      <td>0.640669</td>\n",
       "      <td>Cammeo</td>\n",
       "    </tr>\n",
       "    <tr>\n",
       "      <th>4</th>\n",
       "      <td>14688</td>\n",
       "      <td>507.166992</td>\n",
       "      <td>211.743378</td>\n",
       "      <td>89.312454</td>\n",
       "      <td>0.906691</td>\n",
       "      <td>15262</td>\n",
       "      <td>0.646024</td>\n",
       "      <td>Cammeo</td>\n",
       "    </tr>\n",
       "  </tbody>\n",
       "</table>\n",
       "</div>"
      ],
      "text/plain": [
       "   Area   Perimeter    Major_Axis_Length   Minor_Axis_Length   Eccentricity\\t  \\\n",
       "0  15231  525.578979           229.749878          85.093788         0.928882   \n",
       "1  14656  494.311005           206.020065          91.730972         0.895405   \n",
       "2  14634  501.122009           214.106781          87.768288         0.912118   \n",
       "3  13176  458.342987           193.337387          87.448395         0.891861   \n",
       "4  14688  507.166992           211.743378          89.312454         0.906691   \n",
       "\n",
       "   Convex_Area    Extent   Class  \n",
       "0        15617  0.572896  Cammeo  \n",
       "1        15072  0.615436  Cammeo  \n",
       "2        14954  0.693259  Cammeo  \n",
       "3        13368  0.640669  Cammeo  \n",
       "4        15262  0.646024  Cammeo  "
      ]
     },
     "execution_count": 3,
     "metadata": {},
     "output_type": "execute_result"
    }
   ],
   "source": [
    "df = pd.read_csv('Rice_Cammeo_Osmancik.csv')\n",
    "df.head()"
   ]
  },
  {
   "cell_type": "code",
   "execution_count": 4,
   "id": "a20f09ac",
   "metadata": {},
   "outputs": [],
   "source": [
    "df = df.replace(['Cammeo','Osmancik'] ,[0,1])"
   ]
  },
  {
   "cell_type": "code",
   "execution_count": 5,
   "id": "b3fabcd8",
   "metadata": {},
   "outputs": [],
   "source": [
    "x = df.drop(df.columns[7], axis=1)\n",
    "y = df.iloc[:,7]\n",
    "\n",
    "x_train, x_test , y_train, y_test = train_test_split(x,y,test_size=.2, random_state=45)"
   ]
  },
  {
   "cell_type": "code",
   "execution_count": 6,
   "id": "dbe48375",
   "metadata": {},
   "outputs": [],
   "source": [
    "sc = StandardScaler()\n",
    "x_train = sc.fit_transform(x_train)\n",
    "x_test = sc.transform(x_test)"
   ]
  },
  {
   "cell_type": "code",
   "execution_count": 7,
   "id": "c1351d95",
   "metadata": {},
   "outputs": [
    {
     "name": "stdout",
     "output_type": "stream",
     "text": [
      "WARNING:tensorflow:From C:\\Users\\Student\\anaconda3\\Lib\\site-packages\\keras\\src\\backend.py:873: The name tf.get_default_graph is deprecated. Please use tf.compat.v1.get_default_graph instead.\n",
      "\n"
     ]
    }
   ],
   "source": [
    "model = Sequential()\n",
    "model.add(Dense(7,activation='sigmoid'))\n",
    "model.add(Dense(3,activation='sigmoid'))\n",
    "model.add(Dense(1,activation='sigmoid'))"
   ]
  },
  {
   "cell_type": "code",
   "execution_count": 8,
   "id": "9d5d0ed1",
   "metadata": {},
   "outputs": [
    {
     "name": "stdout",
     "output_type": "stream",
     "text": [
      "WARNING:tensorflow:From C:\\Users\\Student\\anaconda3\\Lib\\site-packages\\keras\\src\\optimizers\\__init__.py:309: The name tf.train.Optimizer is deprecated. Please use tf.compat.v1.train.Optimizer instead.\n",
      "\n"
     ]
    }
   ],
   "source": [
    "model.compile(optimizer='sgd',loss='binary_crossentropy', metrics=['accuracy'])"
   ]
  },
  {
   "cell_type": "code",
   "execution_count": 11,
   "id": "62d1b6e9",
   "metadata": {},
   "outputs": [
    {
     "name": "stdout",
     "output_type": "stream",
     "text": [
      "Epoch 1/50\n",
      "WARNING:tensorflow:From C:\\Users\\Student\\anaconda3\\Lib\\site-packages\\keras\\src\\utils\\tf_utils.py:492: The name tf.ragged.RaggedTensorValue is deprecated. Please use tf.compat.v1.ragged.RaggedTensorValue instead.\n",
      "\n",
      "WARNING:tensorflow:From C:\\Users\\Student\\anaconda3\\Lib\\site-packages\\keras\\src\\engine\\base_layer_utils.py:384: The name tf.executing_eagerly_outside_functions is deprecated. Please use tf.compat.v1.executing_eagerly_outside_functions instead.\n",
      "\n",
      "96/96 [==============================] - 2s 3ms/step - loss: 0.7560 - accuracy: 0.4222 - val_loss: 0.7134 - val_accuracy: 0.4501\n",
      "Epoch 2/50\n",
      "96/96 [==============================] - 0s 1ms/step - loss: 0.7041 - accuracy: 0.4226 - val_loss: 0.6846 - val_accuracy: 0.4554\n",
      "Epoch 3/50\n",
      "96/96 [==============================] - 0s 1ms/step - loss: 0.6787 - accuracy: 0.6198 - val_loss: 0.6702 - val_accuracy: 0.8320\n",
      "Epoch 4/50\n",
      "96/96 [==============================] - 0s 1ms/step - loss: 0.6644 - accuracy: 0.7838 - val_loss: 0.6615 - val_accuracy: 0.6785\n",
      "Epoch 5/50\n",
      "96/96 [==============================] - 0s 987us/step - loss: 0.6550 - accuracy: 0.6480 - val_loss: 0.6546 - val_accuracy: 0.5774\n",
      "Epoch 6/50\n",
      "96/96 [==============================] - 0s 994us/step - loss: 0.6473 - accuracy: 0.5951 - val_loss: 0.6481 - val_accuracy: 0.5656\n",
      "Epoch 7/50\n",
      "96/96 [==============================] - 0s 1ms/step - loss: 0.6402 - accuracy: 0.5928 - val_loss: 0.6416 - val_accuracy: 0.5656\n",
      "Epoch 8/50\n",
      "96/96 [==============================] - 0s 998us/step - loss: 0.6330 - accuracy: 0.5991 - val_loss: 0.6345 - val_accuracy: 0.5774\n",
      "Epoch 9/50\n",
      "96/96 [==============================] - 0s 1ms/step - loss: 0.6256 - accuracy: 0.6102 - val_loss: 0.6269 - val_accuracy: 0.5984\n",
      "Epoch 10/50\n",
      "96/96 [==============================] - 0s 984us/step - loss: 0.6177 - accuracy: 0.6552 - val_loss: 0.6187 - val_accuracy: 0.6299\n",
      "Epoch 11/50\n",
      "96/96 [==============================] - 0s 1ms/step - loss: 0.6094 - accuracy: 0.6893 - val_loss: 0.6099 - val_accuracy: 0.6850\n",
      "Epoch 12/50\n",
      "96/96 [==============================] - 0s 928us/step - loss: 0.6005 - accuracy: 0.7497 - val_loss: 0.6006 - val_accuracy: 0.7612\n",
      "Epoch 13/50\n",
      "96/96 [==============================] - 0s 1ms/step - loss: 0.5911 - accuracy: 0.7851 - val_loss: 0.5906 - val_accuracy: 0.7887\n",
      "Epoch 14/50\n",
      "96/96 [==============================] - 0s 1ms/step - loss: 0.5812 - accuracy: 0.8205 - val_loss: 0.5800 - val_accuracy: 0.8202\n",
      "Epoch 15/50\n",
      "96/96 [==============================] - 0s 1ms/step - loss: 0.5707 - accuracy: 0.8406 - val_loss: 0.5690 - val_accuracy: 0.8425\n",
      "Epoch 16/50\n",
      "96/96 [==============================] - 0s 1ms/step - loss: 0.5597 - accuracy: 0.8589 - val_loss: 0.5573 - val_accuracy: 0.8753\n",
      "Epoch 17/50\n",
      "96/96 [==============================] - 0s 870us/step - loss: 0.5483 - accuracy: 0.8770 - val_loss: 0.5452 - val_accuracy: 0.8871\n",
      "Epoch 18/50\n",
      "96/96 [==============================] - 0s 1ms/step - loss: 0.5364 - accuracy: 0.8885 - val_loss: 0.5329 - val_accuracy: 0.8924\n",
      "Epoch 19/50\n",
      "96/96 [==============================] - 0s 1ms/step - loss: 0.5243 - accuracy: 0.8944 - val_loss: 0.5203 - val_accuracy: 0.9003\n",
      "Epoch 20/50\n",
      "96/96 [==============================] - 0s 994us/step - loss: 0.5118 - accuracy: 0.9026 - val_loss: 0.5074 - val_accuracy: 0.9068\n",
      "Epoch 21/50\n",
      "96/96 [==============================] - 0s 1ms/step - loss: 0.4992 - accuracy: 0.9062 - val_loss: 0.4943 - val_accuracy: 0.9134\n",
      "Epoch 22/50\n",
      "96/96 [==============================] - 0s 1ms/step - loss: 0.4865 - accuracy: 0.9085 - val_loss: 0.4813 - val_accuracy: 0.9121\n",
      "Epoch 23/50\n",
      "96/96 [==============================] - 0s 1ms/step - loss: 0.4738 - accuracy: 0.9098 - val_loss: 0.4683 - val_accuracy: 0.9147\n",
      "Epoch 24/50\n",
      "96/96 [==============================] - 0s 1ms/step - loss: 0.4611 - accuracy: 0.9121 - val_loss: 0.4554 - val_accuracy: 0.9134\n",
      "Epoch 25/50\n",
      "96/96 [==============================] - 0s 1ms/step - loss: 0.4486 - accuracy: 0.9140 - val_loss: 0.4427 - val_accuracy: 0.9134\n",
      "Epoch 26/50\n",
      "96/96 [==============================] - 0s 1ms/step - loss: 0.4363 - accuracy: 0.9163 - val_loss: 0.4304 - val_accuracy: 0.9160\n",
      "Epoch 27/50\n",
      "96/96 [==============================] - 0s 1ms/step - loss: 0.4244 - accuracy: 0.9173 - val_loss: 0.4182 - val_accuracy: 0.9173\n",
      "Epoch 28/50\n",
      "96/96 [==============================] - 0s 1ms/step - loss: 0.4127 - accuracy: 0.9180 - val_loss: 0.4065 - val_accuracy: 0.9213\n",
      "Epoch 29/50\n",
      "96/96 [==============================] - 0s 1ms/step - loss: 0.4014 - accuracy: 0.9183 - val_loss: 0.3951 - val_accuracy: 0.9226\n",
      "Epoch 30/50\n",
      "96/96 [==============================] - 0s 1ms/step - loss: 0.3905 - accuracy: 0.9199 - val_loss: 0.3842 - val_accuracy: 0.9239\n",
      "Epoch 31/50\n",
      "96/96 [==============================] - 0s 1ms/step - loss: 0.3801 - accuracy: 0.9213 - val_loss: 0.3737 - val_accuracy: 0.9226\n",
      "Epoch 32/50\n",
      "96/96 [==============================] - 0s 1ms/step - loss: 0.3701 - accuracy: 0.9229 - val_loss: 0.3639 - val_accuracy: 0.9226\n",
      "Epoch 33/50\n",
      "96/96 [==============================] - 0s 1ms/step - loss: 0.3606 - accuracy: 0.9216 - val_loss: 0.3544 - val_accuracy: 0.9226\n",
      "Epoch 34/50\n",
      "96/96 [==============================] - 0s 1ms/step - loss: 0.3515 - accuracy: 0.9232 - val_loss: 0.3454 - val_accuracy: 0.9226\n",
      "Epoch 35/50\n",
      "96/96 [==============================] - 0s 992us/step - loss: 0.3429 - accuracy: 0.9232 - val_loss: 0.3369 - val_accuracy: 0.9226\n",
      "Epoch 36/50\n",
      "96/96 [==============================] - 0s 977us/step - loss: 0.3348 - accuracy: 0.9232 - val_loss: 0.3288 - val_accuracy: 0.9239\n",
      "Epoch 37/50\n",
      "96/96 [==============================] - 0s 976us/step - loss: 0.3271 - accuracy: 0.9239 - val_loss: 0.3212 - val_accuracy: 0.9252\n",
      "Epoch 38/50\n",
      "96/96 [==============================] - 0s 1ms/step - loss: 0.3199 - accuracy: 0.9242 - val_loss: 0.3142 - val_accuracy: 0.9239\n",
      "Epoch 39/50\n",
      "96/96 [==============================] - 0s 1ms/step - loss: 0.3131 - accuracy: 0.9242 - val_loss: 0.3074 - val_accuracy: 0.9226\n",
      "Epoch 40/50\n",
      "96/96 [==============================] - 0s 1ms/step - loss: 0.3067 - accuracy: 0.9242 - val_loss: 0.3011 - val_accuracy: 0.9226\n",
      "Epoch 41/50\n",
      "96/96 [==============================] - 0s 988us/step - loss: 0.3007 - accuracy: 0.9242 - val_loss: 0.2950 - val_accuracy: 0.9226\n",
      "Epoch 42/50\n",
      "96/96 [==============================] - 0s 907us/step - loss: 0.2950 - accuracy: 0.9239 - val_loss: 0.2894 - val_accuracy: 0.9239\n",
      "Epoch 43/50\n",
      "96/96 [==============================] - 0s 1ms/step - loss: 0.2897 - accuracy: 0.9245 - val_loss: 0.2841 - val_accuracy: 0.9239\n",
      "Epoch 44/50\n",
      "96/96 [==============================] - 0s 1ms/step - loss: 0.2847 - accuracy: 0.9245 - val_loss: 0.2792 - val_accuracy: 0.9239\n",
      "Epoch 45/50\n",
      "96/96 [==============================] - 0s 1ms/step - loss: 0.2800 - accuracy: 0.9249 - val_loss: 0.2746 - val_accuracy: 0.9252\n",
      "Epoch 46/50\n",
      "96/96 [==============================] - 0s 1ms/step - loss: 0.2756 - accuracy: 0.9245 - val_loss: 0.2703 - val_accuracy: 0.9265\n",
      "Epoch 47/50\n",
      "96/96 [==============================] - 0s 977us/step - loss: 0.2714 - accuracy: 0.9249 - val_loss: 0.2662 - val_accuracy: 0.9265\n",
      "Epoch 48/50\n",
      "96/96 [==============================] - 0s 997us/step - loss: 0.2676 - accuracy: 0.9252 - val_loss: 0.2624 - val_accuracy: 0.9265\n",
      "Epoch 49/50\n",
      "96/96 [==============================] - 0s 1ms/step - loss: 0.2639 - accuracy: 0.9265 - val_loss: 0.2589 - val_accuracy: 0.9265\n",
      "Epoch 50/50\n",
      "96/96 [==============================] - 0s 1ms/step - loss: 0.2605 - accuracy: 0.9275 - val_loss: 0.2555 - val_accuracy: 0.9265\n"
     ]
    }
   ],
   "source": [
    "history = model.fit(x_train, y_train, epochs=50, batch_size=32, validation_data=(x_test, y_test))"
   ]
  },
  {
   "cell_type": "code",
   "execution_count": 12,
   "id": "94ebfb5a",
   "metadata": {},
   "outputs": [
    {
     "data": {
      "image/png": "[encoded data removed]",
      "text/plain": [
       "<Figure size 640x480 with 1 Axes>"
      ]
     },
     "metadata": {},
     "output_type": "display_data"
    }
   ],
   "source": [
    "import matplotlib.pyplot as plt\n",
    "plt.plot(history.history['loss'], label='Training loass')\n",
    "plt.plot(history.history['val_loss'], label='Validation Loss')\n",
    "plt.xlabel('Epoach')\n",
    "plt.ylabel('Loss')\n",
    "plt.title('Training and Validation Loss')\n",
    "plt.legend()\n",
    "plt.show()"
   ]
  },
  {
   "cell_type": "code",
   "execution_count": 13,
   "id": "05dbdce1",
   "metadata": {},
   "outputs": [
    {
     "name": "stdout",
     "output_type": "stream",
     "text": [
      "24/24 [==============================] - 0s 708us/step\n"
     ]
    },
    {
     "data": {
      "text/plain": [
       "0.926509186351706"
      ]
     },
     "execution_count": 13,
     "metadata": {},
     "output_type": "execute_result"
    }
   ],
   "source": [
    "y_pred = model.predict(x_test)\n",
    "y_pred = [0 if val <0.5 else 1 for val in y_pred]\n",
    "accuracy_score(y_test, y_pred)"
   ]
  },
  {
   "cell_type": "code",
   "execution_count": 14,
   "id": "c5e3c98d",
   "metadata": {},
   "outputs": [
    {
     "name": "stdout",
     "output_type": "stream",
     "text": [
      "INFO:tensorflow:Assets written to: rice sigmoid\\assets\n"
     ]
    },
    {
     "name": "stderr",
     "output_type": "stream",
     "text": [
      "INFO:tensorflow:Assets written to: rice sigmoid\\assets\n"
     ]
    }
   ],
   "source": [
    "model.save('rice sigmoid')"
   ]
  },
  {
   "cell_type": "code",
   "execution_count": 15,
   "id": "8319aea3",
   "metadata": {},
   "outputs": [],
   "source": [
    "cm = confusion_matrix(y_test, y_pred)"
   ]
  },
  {
   "cell_type": "code",
   "execution_count": 16,
   "id": "f933660b",
   "metadata": {},
   "outputs": [
    {
     "data": {
      "text/plain": [
       "array([[311,  32],\n",
       "       [ 24, 395]], dtype=int64)"
      ]
     },
     "execution_count": 16,
     "metadata": {},
     "output_type": "execute_result"
    }
   ],
   "source": [
    "cm"
   ]
  },
  {
   "cell_type": "code",
   "execution_count": null,
   "id": "5a71c646",
   "metadata": {},
   "outputs": [],
   "source": []
  }
 ],
 "metadata": {
  "kernelspec": {
   "display_name": "Python 3 (ipykernel)",
   "language": "python",
   "name": "python3"
  },
  "language_info": {
   "codemirror_mode": {
    "name": "ipython",
    "version": 3
   },
   "file_extension": ".py",
   "mimetype": "text/x-python",
   "name": "python",
   "nbconvert_exporter": "python",
   "pygments_lexer": "ipython3",
   "version": "3.11.5"
  }
 },
 "nbformat": 4,
 "nbformat_minor": 5
}
