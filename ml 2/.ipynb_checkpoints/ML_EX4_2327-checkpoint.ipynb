{
 "cells": [
  {
   "cell_type": "code",
   "execution_count": 55,
   "id": "510b9031-9162-4d0f-b099-98d1df55eb75",
   "metadata": {},
   "outputs": [],
   "source": [
    "import pandas as pd\n",
    "from sklearn.model_selection import train_test_split"
   ]
  },
  {
   "cell_type": "code",
   "execution_count": 61,
   "id": "012513cb-f931-4558-b0fd-2308c100b06f",
   "metadata": {},
   "outputs": [],
   "source": [
    "data = pd.read_csv('Rice_Cammeo_Osmancik.csv')"
   ]
  },
  {
   "cell_type": "code",
   "execution_count": 63,
   "id": "c5abd345-45ae-4136-9a75-8195014f9d39",
   "metadata": {},
   "outputs": [
    {
     "data": {
      "text/html": [
       "<div>\n",
       "<style scoped>\n",
       "    .dataframe tbody tr th:only-of-type {\n",
       "        vertical-align: middle;\n",
       "    }\n",
       "\n",
       "    .dataframe tbody tr th {\n",
       "        vertical-align: top;\n",
       "    }\n",
       "\n",
       "    .dataframe thead th {\n",
       "        text-align: right;\n",
       "    }\n",
       "</style>\n",
       "<table border=\"1\" class=\"dataframe\">\n",
       "  <thead>\n",
       "    <tr style=\"text-align: right;\">\n",
       "      <th></th>\n",
       "      <th>Area</th>\n",
       "      <th>Perimeter</th>\n",
       "      <th>Major_Axis_Length</th>\n",
       "      <th>Minor_Axis_Length</th>\n",
       "      <th>Eccentricity\\t</th>\n",
       "      <th>Convex_Area</th>\n",
       "      <th>Extent</th>\n",
       "      <th>Class</th>\n",
       "    </tr>\n",
       "  </thead>\n",
       "  <tbody>\n",
       "    <tr>\n",
       "      <th>0</th>\n",
       "      <td>15231</td>\n",
       "      <td>525.578979</td>\n",
       "      <td>229.749878</td>\n",
       "      <td>85.093788</td>\n",
       "      <td>0.928882</td>\n",
       "      <td>15617</td>\n",
       "      <td>0.572896</td>\n",
       "      <td>Cammeo</td>\n",
       "    </tr>\n",
       "    <tr>\n",
       "      <th>1</th>\n",
       "      <td>14656</td>\n",
       "      <td>494.311005</td>\n",
       "      <td>206.020065</td>\n",
       "      <td>91.730972</td>\n",
       "      <td>0.895405</td>\n",
       "      <td>15072</td>\n",
       "      <td>0.615436</td>\n",
       "      <td>Cammeo</td>\n",
       "    </tr>\n",
       "    <tr>\n",
       "      <th>2</th>\n",
       "      <td>14634</td>\n",
       "      <td>501.122009</td>\n",
       "      <td>214.106781</td>\n",
       "      <td>87.768288</td>\n",
       "      <td>0.912118</td>\n",
       "      <td>14954</td>\n",
       "      <td>0.693259</td>\n",
       "      <td>Cammeo</td>\n",
       "    </tr>\n",
       "    <tr>\n",
       "      <th>3</th>\n",
       "      <td>13176</td>\n",
       "      <td>458.342987</td>\n",
       "      <td>193.337387</td>\n",
       "      <td>87.448395</td>\n",
       "      <td>0.891861</td>\n",
       "      <td>13368</td>\n",
       "      <td>0.640669</td>\n",
       "      <td>Cammeo</td>\n",
       "    </tr>\n",
       "    <tr>\n",
       "      <th>4</th>\n",
       "      <td>14688</td>\n",
       "      <td>507.166992</td>\n",
       "      <td>211.743378</td>\n",
       "      <td>89.312454</td>\n",
       "      <td>0.906691</td>\n",
       "      <td>15262</td>\n",
       "      <td>0.646024</td>\n",
       "      <td>Cammeo</td>\n",
       "    </tr>\n",
       "  </tbody>\n",
       "</table>\n",
       "</div>"
      ],
      "text/plain": [
       "   Area   Perimeter    Major_Axis_Length   Minor_Axis_Length   Eccentricity\\t  \\\n",
       "0  15231  525.578979           229.749878          85.093788         0.928882   \n",
       "1  14656  494.311005           206.020065          91.730972         0.895405   \n",
       "2  14634  501.122009           214.106781          87.768288         0.912118   \n",
       "3  13176  458.342987           193.337387          87.448395         0.891861   \n",
       "4  14688  507.166992           211.743378          89.312454         0.906691   \n",
       "\n",
       "   Convex_Area    Extent   Class  \n",
       "0        15617  0.572896  Cammeo  \n",
       "1        15072  0.615436  Cammeo  \n",
       "2        14954  0.693259  Cammeo  \n",
       "3        13368  0.640669  Cammeo  \n",
       "4        15262  0.646024  Cammeo  "
      ]
     },
     "execution_count": 63,
     "metadata": {},
     "output_type": "execute_result"
    }
   ],
   "source": [
    "data.head()"
   ]
  },
  {
   "cell_type": "code",
   "execution_count": 65,
   "id": "260b5524-60ec-44a5-ba7a-51522f1eb7bd",
   "metadata": {},
   "outputs": [],
   "source": [
    "data = data.replace(['Cammeo','Osmancik'] ,[0,1])"
   ]
  },
  {
   "cell_type": "code",
   "execution_count": 79,
   "id": "13759cf5-2505-4eaa-9d86-142672a26e7d",
   "metadata": {},
   "outputs": [],
   "source": [
    "from sklearn.model_selection import train_test_split\n",
    "x  = data.drop(data.columns[7], axis=1)\n",
    "y = data.iloc[:,7]\n",
    "\n",
    "x_train, x_test, y_train, y_test = train_test_split(x,y,test_size=.2, random_state=45)"
   ]
  },
  {
   "cell_type": "code",
   "execution_count": 81,
   "id": "a58b846c-3dbd-4b95-80bf-2db76bc880ab",
   "metadata": {},
   "outputs": [],
   "source": [
    "from sklearn.preprocessing import StandardScaler\n",
    "sc = StandardScaler()\n",
    "x_train = sc.fit_transform(x_train)\n",
    "x_test = sc.transform(x_test)"
   ]
  },
  {
   "cell_type": "code",
   "execution_count": 83,
   "id": "d5e63480-288b-4b79-96dc-50d00e45f483",
   "metadata": {},
   "outputs": [],
   "source": [
    "from tensorflow.keras.models import Sequential, load_model\n",
    "from tensorflow.keras.layers import Dense\n",
    "from sklearn.metrics import accuracy_score , confusion_matrix"
   ]
  },
  {
   "cell_type": "code",
   "execution_count": 85,
   "id": "62c0a9f5-3f20-446c-a5e2-46614bab16d3",
   "metadata": {},
   "outputs": [],
   "source": [
    "model =Sequential()\n",
    "model.add(Dense(7,activation='relu'))\n",
    "model.add(Dense(3,activation='relu'))\n",
    "model.add(Dense(1,activation='sigmoid'))"
   ]
  },
  {
   "cell_type": "code",
   "execution_count": 87,
   "id": "fc4d4c6d-c3f0-40b0-b809-95acb0579dae",
   "metadata": {},
   "outputs": [],
   "source": [
    "model.compile(optimizer='sgd',loss='binary_crossentropy',metrics=['accuracy'])"
   ]
  },
  {
   "cell_type": "code",
   "execution_count": 89,
   "id": "1c130169-e79b-4f12-b8fc-e4b3ef3ca9c7",
   "metadata": {},
   "outputs": [
    {
     "name": "stdout",
     "output_type": "stream",
     "text": [
      "Epoch 1/50\n",
      "96/96 [==============================] - 1s 3ms/step - loss: 0.6231 - accuracy: 0.7067 - val_loss: 0.5226 - val_accuracy: 0.8320\n",
      "Epoch 2/50\n",
      "96/96 [==============================] - 0s 2ms/step - loss: 0.4845 - accuracy: 0.8711 - val_loss: 0.4599 - val_accuracy: 0.8871\n",
      "Epoch 3/50\n",
      "96/96 [==============================] - 0s 2ms/step - loss: 0.4314 - accuracy: 0.8976 - val_loss: 0.4188 - val_accuracy: 0.9003\n",
      "Epoch 4/50\n",
      "96/96 [==============================] - 0s 2ms/step - loss: 0.3940 - accuracy: 0.9052 - val_loss: 0.3881 - val_accuracy: 0.9134\n",
      "Epoch 5/50\n",
      "96/96 [==============================] - 0s 2ms/step - loss: 0.3657 - accuracy: 0.9094 - val_loss: 0.3637 - val_accuracy: 0.9147\n",
      "Epoch 6/50\n",
      "96/96 [==============================] - 0s 1ms/step - loss: 0.3433 - accuracy: 0.9134 - val_loss: 0.3435 - val_accuracy: 0.9147\n",
      "Epoch 7/50\n",
      "96/96 [==============================] - 0s 2ms/step - loss: 0.3250 - accuracy: 0.9180 - val_loss: 0.3270 - val_accuracy: 0.9147\n",
      "Epoch 8/50\n",
      "96/96 [==============================] - 0s 2ms/step - loss: 0.3100 - accuracy: 0.9190 - val_loss: 0.3129 - val_accuracy: 0.9199\n",
      "Epoch 9/50\n",
      "96/96 [==============================] - 0s 2ms/step - loss: 0.2976 - accuracy: 0.9199 - val_loss: 0.3014 - val_accuracy: 0.9186\n",
      "Epoch 10/50\n",
      "96/96 [==============================] - 0s 2ms/step - loss: 0.2872 - accuracy: 0.9229 - val_loss: 0.2913 - val_accuracy: 0.9199\n",
      "Epoch 11/50\n",
      "96/96 [==============================] - 0s 2ms/step - loss: 0.2784 - accuracy: 0.9226 - val_loss: 0.2827 - val_accuracy: 0.9199\n",
      "Epoch 12/50\n",
      "96/96 [==============================] - 0s 2ms/step - loss: 0.2709 - accuracy: 0.9213 - val_loss: 0.2752 - val_accuracy: 0.9226\n",
      "Epoch 13/50\n",
      "96/96 [==============================] - 0s 1ms/step - loss: 0.2644 - accuracy: 0.9219 - val_loss: 0.2688 - val_accuracy: 0.9226\n",
      "Epoch 14/50\n",
      "96/96 [==============================] - 0s 2ms/step - loss: 0.2588 - accuracy: 0.9216 - val_loss: 0.2628 - val_accuracy: 0.9226\n",
      "Epoch 15/50\n",
      "96/96 [==============================] - 0s 2ms/step - loss: 0.2538 - accuracy: 0.9226 - val_loss: 0.2578 - val_accuracy: 0.9213\n",
      "Epoch 16/50\n",
      "96/96 [==============================] - 0s 2ms/step - loss: 0.2494 - accuracy: 0.9236 - val_loss: 0.2534 - val_accuracy: 0.9226\n",
      "Epoch 17/50\n",
      "96/96 [==============================] - 0s 2ms/step - loss: 0.2455 - accuracy: 0.9239 - val_loss: 0.2490 - val_accuracy: 0.9239\n",
      "Epoch 18/50\n",
      "96/96 [==============================] - 0s 2ms/step - loss: 0.2420 - accuracy: 0.9239 - val_loss: 0.2458 - val_accuracy: 0.9239\n",
      "Epoch 19/50\n",
      "96/96 [==============================] - 0s 2ms/step - loss: 0.2390 - accuracy: 0.9232 - val_loss: 0.2425 - val_accuracy: 0.9252\n",
      "Epoch 20/50\n",
      "96/96 [==============================] - 0s 2ms/step - loss: 0.2361 - accuracy: 0.9232 - val_loss: 0.2393 - val_accuracy: 0.9252\n",
      "Epoch 21/50\n",
      "96/96 [==============================] - 0s 2ms/step - loss: 0.2336 - accuracy: 0.9226 - val_loss: 0.2371 - val_accuracy: 0.9265\n",
      "Epoch 22/50\n",
      "96/96 [==============================] - 0s 2ms/step - loss: 0.2312 - accuracy: 0.9229 - val_loss: 0.2343 - val_accuracy: 0.9265\n",
      "Epoch 23/50\n",
      "96/96 [==============================] - 0s 2ms/step - loss: 0.2290 - accuracy: 0.9229 - val_loss: 0.2320 - val_accuracy: 0.9265\n",
      "Epoch 24/50\n",
      "96/96 [==============================] - 0s 2ms/step - loss: 0.2270 - accuracy: 0.9229 - val_loss: 0.2299 - val_accuracy: 0.9265\n",
      "Epoch 25/50\n",
      "96/96 [==============================] - 0s 2ms/step - loss: 0.2252 - accuracy: 0.9232 - val_loss: 0.2281 - val_accuracy: 0.9265\n",
      "Epoch 26/50\n",
      "96/96 [==============================] - 0s 2ms/step - loss: 0.2236 - accuracy: 0.9239 - val_loss: 0.2265 - val_accuracy: 0.9265\n",
      "Epoch 27/50\n",
      "96/96 [==============================] - 0s 2ms/step - loss: 0.2220 - accuracy: 0.9239 - val_loss: 0.2250 - val_accuracy: 0.9265\n",
      "Epoch 28/50\n",
      "96/96 [==============================] - 0s 2ms/step - loss: 0.2205 - accuracy: 0.9239 - val_loss: 0.2234 - val_accuracy: 0.9265\n",
      "Epoch 29/50\n",
      "96/96 [==============================] - 0s 2ms/step - loss: 0.2191 - accuracy: 0.9239 - val_loss: 0.2218 - val_accuracy: 0.9265\n",
      "Epoch 30/50\n",
      "96/96 [==============================] - 0s 2ms/step - loss: 0.2178 - accuracy: 0.9249 - val_loss: 0.2203 - val_accuracy: 0.9265\n",
      "Epoch 31/50\n",
      "96/96 [==============================] - 0s 2ms/step - loss: 0.2166 - accuracy: 0.9239 - val_loss: 0.2194 - val_accuracy: 0.9278\n",
      "Epoch 32/50\n",
      "96/96 [==============================] - 0s 2ms/step - loss: 0.2154 - accuracy: 0.9242 - val_loss: 0.2183 - val_accuracy: 0.9291\n",
      "Epoch 33/50\n",
      "96/96 [==============================] - 0s 1ms/step - loss: 0.2144 - accuracy: 0.9245 - val_loss: 0.2171 - val_accuracy: 0.9291\n",
      "Epoch 34/50\n",
      "96/96 [==============================] - 0s 2ms/step - loss: 0.2133 - accuracy: 0.9252 - val_loss: 0.2160 - val_accuracy: 0.9291\n",
      "Epoch 35/50\n",
      "96/96 [==============================] - 0s 2ms/step - loss: 0.2123 - accuracy: 0.9259 - val_loss: 0.2154 - val_accuracy: 0.9291\n",
      "Epoch 36/50\n",
      "96/96 [==============================] - 0s 2ms/step - loss: 0.2114 - accuracy: 0.9255 - val_loss: 0.2145 - val_accuracy: 0.9278\n",
      "Epoch 37/50\n",
      "96/96 [==============================] - 0s 2ms/step - loss: 0.2105 - accuracy: 0.9259 - val_loss: 0.2135 - val_accuracy: 0.9291\n",
      "Epoch 38/50\n",
      "96/96 [==============================] - 0s 2ms/step - loss: 0.2097 - accuracy: 0.9252 - val_loss: 0.2125 - val_accuracy: 0.9278\n",
      "Epoch 39/50\n",
      "96/96 [==============================] - 0s 2ms/step - loss: 0.2089 - accuracy: 0.9262 - val_loss: 0.2119 - val_accuracy: 0.9278\n",
      "Epoch 40/50\n",
      "96/96 [==============================] - 0s 2ms/step - loss: 0.2081 - accuracy: 0.9255 - val_loss: 0.2109 - val_accuracy: 0.9278\n",
      "Epoch 41/50\n",
      "96/96 [==============================] - 0s 2ms/step - loss: 0.2074 - accuracy: 0.9255 - val_loss: 0.2103 - val_accuracy: 0.9278\n",
      "Epoch 42/50\n",
      "96/96 [==============================] - 0s 2ms/step - loss: 0.2067 - accuracy: 0.9265 - val_loss: 0.2097 - val_accuracy: 0.9278\n",
      "Epoch 43/50\n",
      "96/96 [==============================] - 0s 2ms/step - loss: 0.2060 - accuracy: 0.9262 - val_loss: 0.2092 - val_accuracy: 0.9304\n",
      "Epoch 44/50\n",
      "96/96 [==============================] - 0s 2ms/step - loss: 0.2054 - accuracy: 0.9262 - val_loss: 0.2085 - val_accuracy: 0.9291\n",
      "Epoch 45/50\n",
      "96/96 [==============================] - 0s 2ms/step - loss: 0.2048 - accuracy: 0.9268 - val_loss: 0.2082 - val_accuracy: 0.9291\n",
      "Epoch 46/50\n",
      "96/96 [==============================] - 0s 2ms/step - loss: 0.2043 - accuracy: 0.9275 - val_loss: 0.2078 - val_accuracy: 0.9304\n",
      "Epoch 47/50\n",
      "96/96 [==============================] - 0s 2ms/step - loss: 0.2037 - accuracy: 0.9272 - val_loss: 0.2068 - val_accuracy: 0.9291\n",
      "Epoch 48/50\n",
      "96/96 [==============================] - 0s 2ms/step - loss: 0.2031 - accuracy: 0.9265 - val_loss: 0.2065 - val_accuracy: 0.9291\n",
      "Epoch 49/50\n",
      "96/96 [==============================] - 0s 2ms/step - loss: 0.2026 - accuracy: 0.9265 - val_loss: 0.2060 - val_accuracy: 0.9304\n",
      "Epoch 50/50\n",
      "96/96 [==============================] - 0s 1ms/step - loss: 0.2021 - accuracy: 0.9268 - val_loss: 0.2055 - val_accuracy: 0.9304\n"
     ]
    }
   ],
   "source": [
    "history = model.fit(x_train, y_train, epochs=50, batch_size=32, validation_data=(x_test, y_test))"
   ]
  },
  {
   "cell_type": "code",
   "execution_count": 91,
   "id": "0d3da4d4-b616-4e9f-b7b0-ae23a5496145",
   "metadata": {},
   "outputs": [
    {
     "data": {
      "image/png": "[encoded data removed]",
      "text/plain": [
       "<Figure size 640x480 with 1 Axes>"
      ]
     },
     "metadata": {},
     "output_type": "display_data"
    }
   ],
   "source": [
    "import matplotlib.pyplot  as plt\n",
    "plt.plot(history.history['loss'], label='Training Loss')\n",
    "plt.plot(history.history['val_loss'], label='Validation Loss')\n",
    "plt.xlabel('Epoch')\n",
    "plt.ylabel('Loss')\n",
    "plt.title('Training and Validation Loss')\n",
    "plt.legend()\n",
    "plt.show()"
   ]
  },
  {
   "cell_type": "code",
   "execution_count": 93,
   "id": "4c63b147-61fb-49c7-96de-80957f6137a3",
   "metadata": {},
   "outputs": [
    {
     "name": "stdout",
     "output_type": "stream",
     "text": [
      "24/24 [==============================] - 0s 2ms/step\n"
     ]
    },
    {
     "data": {
      "text/plain": [
       "0.9304461942257218"
      ]
     },
     "execution_count": 93,
     "metadata": {},
     "output_type": "execute_result"
    }
   ],
   "source": [
    "# Make predictions\n",
    "y_pred = model.predict(x_test)\n",
    "y_pred = [0 if val <0.5 else 1 for val in y_pred]\n",
    "accuracy_score(y_test,y_pred)"
   ]
  },
  {
   "cell_type": "code",
   "execution_count": 95,
   "id": "c68d3528-a665-421a-bc52-92b6421f4b99",
   "metadata": {},
   "outputs": [
    {
     "name": "stdout",
     "output_type": "stream",
     "text": [
      "INFO:tensorflow:Assets written to: rice relu/assets\n"
     ]
    },
    {
     "name": "stderr",
     "output_type": "stream",
     "text": [
      "INFO:tensorflow:Assets written to: rice relu/assets\n"
     ]
    }
   ],
   "source": [
    "model.save('rice relu')"
   ]
  },
  {
   "cell_type": "code",
   "execution_count": 97,
   "id": "2b4f6560-7791-4c86-be4d-f6ec0d9eeb1d",
   "metadata": {},
   "outputs": [],
   "source": [
    "matrix =confusion_matrix(y_test, y_pred)"
   ]
  },
  {
   "cell_type": "code",
   "execution_count": 99,
   "id": "a25c7f64-ab8d-4e0c-b121-8d6d3d7221e8",
   "metadata": {},
   "outputs": [
    {
     "data": {
      "text/plain": [
       "array([[313,  30],\n",
       "       [ 23, 396]])"
      ]
     },
     "execution_count": 99,
     "metadata": {},
     "output_type": "execute_result"
    }
   ],
   "source": [
    "matrix"
   ]
  },
  {
   "cell_type": "code",
   "execution_count": null,
   "id": "3182af73-4794-4c22-a31b-99dcd77aa782",
   "metadata": {},
   "outputs": [],
   "source": []
  }
 ],
 "metadata": {
  "kernelspec": {
   "display_name": "anaconda-panel-2023.05-py310",
   "language": "python",
   "name": "conda-env-anaconda-panel-2023.05-py310-py"
  },
  "language_info": {
   "codemirror_mode": {
    "name": "ipython",
    "version": 3
   },
   "file_extension": ".py",
   "mimetype": "text/x-python",
   "name": "python",
   "nbconvert_exporter": "python",
   "pygments_lexer": "ipython3",
   "version": "3.11.5"
  }
 },
 "nbformat": 4,
 "nbformat_minor": 5
}
