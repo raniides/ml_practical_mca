{
 "cells": [
  {
   "cell_type": "code",
   "execution_count": null,
   "id": "b4959076",
   "metadata": {},
   "outputs": [],
   "source": [
    "import tensorflow as tf\n",
    "import pandas as pd\n",
    "\n",
    "# Loading the Rice (Cammeo and Osmancik) dataset\n",
    "dataset = pd.read_csv('Rice_Cammeo_Osmancik.csv')"
   ]
  },
  {
   "cell_type": "code",
   "execution_count": null,
   "id": "9fab6115",
   "metadata": {},
   "outputs": [],
   "source": [
    "# Display the first few rows of the dataset\n",
    "dataset.head()\n",
    "\n",
    "# Preprocess the dataset if necessary \n",
    "#(e.g., handle missing values, encode categorical variables)\n",
    "\n",
    "dataset = dataset.replace(['Cammeo','Osmancik'] ,[0,1])\n",
    "\n",
    "# Spliting the dataset into features and labels\n",
    "X = dataset.drop(columns=['Class'])\n",
    "y = dataset['Class']\n",
    "\n",
    "# Define the neural network architecture\n",
    "input_size = X.shape[1]\n",
    "hidden_size = 4  # You can adjust this as needed\n",
    "output_size = 1  # Assuming a binary classification problem\n",
    "\n",
    "\n",
    "# Define the model using TensorFlow's Keras API\n",
    "model = tf.keras.Sequential([\n",
    "    tf.keras.layers.Dense(hidden_size, activation='relu', input_shape=(input_size,), name='hidden_layer'),\n",
    "    tf.keras.layers.Dense(output_size, activation='sigmoid', name='output_layer')\n",
    "])"
   ]
  },
  {
   "cell_type": "code",
   "execution_count": null,
   "id": "a55234fe",
   "metadata": {},
   "outputs": [],
   "source": [
    "# Compile the model\n",
    "model.compile(optimizer='sgd', loss='binary_crossentropy', metrics=['accuracy'])"
   ]
  },
  {
   "cell_type": "code",
   "execution_count": null,
   "id": "1cb507f7",
   "metadata": {},
   "outputs": [],
   "source": [
    "# Train the model\n",
    "model.fit(X_train, y_train, epochs=100, batch_size=32, validation_data=(X_val, y_val), verbose=1)\n"
   ]
  },
  {
   "cell_type": "code",
   "execution_count": null,
   "id": "6c5fc92a",
   "metadata": {},
   "outputs": [],
   "source": [
    "# Make predictions using the trained model\n",
    "predictions = model.predict(X)"
   ]
  },
  {
   "cell_type": "code",
   "execution_count": null,
   "id": "f188d9cf",
   "metadata": {},
   "outputs": [],
   "source": [
    "# Get the outputs of the hidden and output layers\n",
    "hidden_layer_output_model = tf.keras.Model(inputs=model.input, outputs=model.get_layer('hidden_layer').output)\n",
    "hidden_layer_output = hidden_layer_output_model.predict(X)\n",
    "\n",
    "output_layer_output_model = tf.keras.Model(inputs=model.input, outputs=model.get_layer('output_layer').output)\n",
    "output_layer_output = output_layer_output_model.predict(X)\n",
    "\n",
    "print(\"Outputs of the hidden layer:\")\n",
    "print(hidden_layer_output)\n",
    "\n",
    "print(\"\\nOutputs of the output layer:\")\n",
    "print(output_layer_output)"
   ]
  }
 ],
 "metadata": {
  "kernelspec": {
   "display_name": "Python 3 (ipykernel)",
   "language": "python",
   "name": "python3"
  },
  "language_info": {
   "codemirror_mode": {
    "name": "ipython",
    "version": 3
   },
   "file_extension": ".py",
   "mimetype": "text/x-python",
   "name": "python",
   "nbconvert_exporter": "python",
   "pygments_lexer": "ipython3",
   "version": "3.11.7"
  }
 },
 "nbformat": 4,
 "nbformat_minor": 5
}
