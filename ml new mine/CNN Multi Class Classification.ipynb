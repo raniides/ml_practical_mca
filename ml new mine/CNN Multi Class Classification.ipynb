{
 "cells": [
  {
   "cell_type": "code",
   "execution_count": 1,
   "metadata": {
    "executionInfo": {
     "elapsed": 14455,
     "status": "ok",
     "timestamp": 1712070476685,
     "user": {
      "displayName": "Blissful Audio Heaven",
      "userId": "03888708861664354096"
     },
     "user_tz": -330
    },
    "id": "4cM7fMWrUULT"
   },
   "outputs": [
    {
     "name": "stderr",
     "output_type": "stream",
     "text": [
      "2024-04-29 08:50:56.423236: I tensorflow/core/platform/cpu_feature_guard.cc:210] This TensorFlow binary is optimized to use available CPU instructions in performance-critical operations.\n",
      "To enable the following instructions: AVX2 FMA, in other operations, rebuild TensorFlow with the appropriate compiler flags.\n"
     ]
    }
   ],
   "source": [
    "#Imports\n",
    "import os\n",
    "import numpy as np\n",
    "import matplotlib.pyplot as plt\n",
    "import tensorflow as tf\n",
    "from tensorflow.keras.preprocessing.image import ImageDataGenerator\n",
    "from tensorflow.keras.models import Sequential\n",
    "from tensorflow.keras.layers import Conv2D, MaxPooling2D, Flatten, Dense\n",
    "from tensorflow.keras.callbacks import ModelCheckpoint\n",
    "from sklearn.model_selection import train_test_split\n",
    "from sklearn.metrics import classification_report\n",
    "from sklearn.metrics import confusion_matrix"
   ]
  },
  {
   "cell_type": "code",
   "execution_count": 2,
   "metadata": {
    "executionInfo": {
     "elapsed": 24948,
     "status": "ok",
     "timestamp": 1712070501626,
     "user": {
      "displayName": "Blissful Audio Heaven",
      "userId": "03888708861664354096"
     },
     "user_tz": -330
    },
    "id": "YzswGGEOUiID"
   },
   "outputs": [],
   "source": [
    "# Define paths\n",
    "data_dir_cat = '/Users/raani/Desktop/MINE/ml try practice/archive/animals/animals/cats'\n",
    "data_dir_dog = '/Users/raani/Desktop/MINE/ml try practice/archive/animals/animals/dogs'\n",
    "data_dir_panda = '/Users/raani/Desktop/MINE/ml try practice/archive/animals/animals/panda'\n",
    "\n",
    "# Function to load images and labels\n",
    "def load_data(data_dir, label):\n",
    "    images = []\n",
    "    labels = []\n",
    "    for img in os.listdir(data_dir):\n",
    "        img_path = os.path.join(data_dir, img)\n",
    "        img = tf.keras.preprocessing.image.load_img(img_path, target_size=(150, 150))\n",
    "        img = tf.keras.preprocessing.image.img_to_array(img)\n",
    "        img = img / 255.0  # Normalize\n",
    "        images.append(img)\n",
    "        labels.append(label)\n",
    "    return np.array(images), np.array(labels)\n",
    "\n",
    "# Load cat, dog, and panda images and labels\n",
    "cat_images, cat_labels = load_data(data_dir_cat, 0)  # Label 0 for cat\n",
    "dog_images, dog_labels = load_data(data_dir_dog, 1)  # Label 1 for dog\n",
    "panda_images, panda_labels = load_data(data_dir_panda, 2)  # Label 2 for cow\n",
    "\n",
    "# Concatenate cat, dog, and panda data\n",
    "images = np.concatenate([cat_images, dog_images, panda_images])\n",
    "labels = np.concatenate([cat_labels, dog_labels, panda_labels])"
   ]
  },
  {
   "cell_type": "code",
   "execution_count": 34,
   "metadata": {},
   "outputs": [
    {
     "data": {
      "text/plain": [
       "array([[[[0.73333335, 0.7490196 , 0.6509804 ],\n",
       "         [0.09803922, 0.09803922, 0.09803922],\n",
       "         [0.4862745 , 0.49019608, 0.47058824],\n",
       "         ...,\n",
       "         [0.49411765, 0.5019608 , 0.48235294],\n",
       "         [0.12941177, 0.13725491, 0.11764706],\n",
       "         [0.07058824, 0.08235294, 0.03921569]],\n",
       "\n",
       "        [[0.73333335, 0.7490196 , 0.6509804 ],\n",
       "         [0.08627451, 0.08627451, 0.08627451],\n",
       "         [0.73333335, 0.7372549 , 0.7176471 ],\n",
       "         ...,\n",
       "         [0.5882353 , 0.59607846, 0.5764706 ],\n",
       "         [0.23137255, 0.23921569, 0.21960784],\n",
       "         [0.10588235, 0.11764706, 0.09019608]],\n",
       "\n",
       "        [[0.75686276, 0.77254903, 0.6745098 ],\n",
       "         [0.08235294, 0.08235294, 0.08235294],\n",
       "         [0.76862746, 0.77254903, 0.7529412 ],\n",
       "         ...,\n",
       "         [0.0627451 , 0.07058824, 0.05098039],\n",
       "         [0.05882353, 0.06666667, 0.04705882],\n",
       "         [0.01176471, 0.01960784, 0.01568628]],\n",
       "\n",
       "        ...,\n",
       "\n",
       "        [[0.79607844, 0.79607844, 0.7882353 ],\n",
       "         [0.8       , 0.8       , 0.7921569 ],\n",
       "         [0.81960785, 0.81960785, 0.8117647 ],\n",
       "         ...,\n",
       "         [0.7176471 , 0.7254902 , 0.72156864],\n",
       "         [0.75686276, 0.7647059 , 0.7607843 ],\n",
       "         [0.69411767, 0.69411767, 0.6862745 ]],\n",
       "\n",
       "        [[0.77254903, 0.77254903, 0.7647059 ],\n",
       "         [0.76862746, 0.76862746, 0.7607843 ],\n",
       "         [0.81960785, 0.81960785, 0.8117647 ],\n",
       "         ...,\n",
       "         [0.7058824 , 0.7137255 , 0.70980394],\n",
       "         [0.74509805, 0.7529412 , 0.7490196 ],\n",
       "         [0.74509805, 0.74509805, 0.7372549 ]],\n",
       "\n",
       "        [[0.76862746, 0.76862746, 0.7607843 ],\n",
       "         [0.76862746, 0.76862746, 0.7607843 ],\n",
       "         [0.8039216 , 0.8039216 , 0.79607844],\n",
       "         ...,\n",
       "         [0.7490196 , 0.75686276, 0.7529412 ],\n",
       "         [0.73333335, 0.7411765 , 0.7372549 ],\n",
       "         [0.74509805, 0.74509805, 0.7372549 ]]],\n",
       "\n",
       "\n",
       "       [[[0.3372549 , 0.34509805, 0.33333334],\n",
       "         [0.3372549 , 0.34509805, 0.33333334],\n",
       "         [0.3372549 , 0.34509805, 0.33333334],\n",
       "         ...,\n",
       "         [0.5803922 , 0.5176471 , 0.52156866],\n",
       "         [0.5764706 , 0.5137255 , 0.5176471 ],\n",
       "         [0.5568628 , 0.49411765, 0.49803922]],\n",
       "\n",
       "        [[0.3372549 , 0.34509805, 0.33333334],\n",
       "         [0.3372549 , 0.34509805, 0.33333334],\n",
       "         [0.3372549 , 0.34509805, 0.33333334],\n",
       "         ...,\n",
       "         [0.5764706 , 0.5137255 , 0.5176471 ],\n",
       "         [0.5803922 , 0.5176471 , 0.52156866],\n",
       "         [0.5764706 , 0.5137255 , 0.5176471 ]],\n",
       "\n",
       "        [[0.34117648, 0.34901962, 0.3372549 ],\n",
       "         [0.33333334, 0.34117648, 0.32941177],\n",
       "         [0.3372549 , 0.34509805, 0.33333334],\n",
       "         ...,\n",
       "         [0.57254905, 0.50980395, 0.5137255 ],\n",
       "         [0.5764706 , 0.5137255 , 0.5176471 ],\n",
       "         [0.5803922 , 0.5176471 , 0.52156866]],\n",
       "\n",
       "        ...,\n",
       "\n",
       "        [[0.87058824, 0.7607843 , 0.7137255 ],\n",
       "         [0.7058824 , 0.5803922 , 0.52156866],\n",
       "         [0.61960787, 0.47843137, 0.39215687],\n",
       "         ...,\n",
       "         [0.89411765, 0.90588236, 0.8235294 ],\n",
       "         [0.8901961 , 0.90588236, 0.8156863 ],\n",
       "         [0.8745098 , 0.8901961 , 0.7921569 ]],\n",
       "\n",
       "        [[0.92941177, 0.89411765, 0.9137255 ],\n",
       "         [0.9254902 , 0.8784314 , 0.8784314 ],\n",
       "         [0.93333334, 0.85490197, 0.81960785],\n",
       "         ...,\n",
       "         [0.9019608 , 0.9254902 , 0.9254902 ],\n",
       "         [0.9098039 , 0.93333334, 0.9254902 ],\n",
       "         [0.9019608 , 0.9254902 , 0.9098039 ]],\n",
       "\n",
       "        [[0.9490196 , 0.89411765, 0.8509804 ],\n",
       "         [0.9490196 , 0.89411765, 0.8509804 ],\n",
       "         [0.94509804, 0.89411765, 0.85882354],\n",
       "         ...,\n",
       "         [0.91764706, 0.9254902 , 0.92156863],\n",
       "         [0.9098039 , 0.91764706, 0.9137255 ],\n",
       "         [0.9098039 , 0.91764706, 0.9137255 ]]],\n",
       "\n",
       "\n",
       "       [[[0.14509805, 0.35686275, 0.5294118 ],\n",
       "         [0.15686275, 0.36862746, 0.5411765 ],\n",
       "         [0.16862746, 0.38039216, 0.5529412 ],\n",
       "         ...,\n",
       "         [0.09019608, 0.21960784, 0.34117648],\n",
       "         [0.0627451 , 0.19215687, 0.3137255 ],\n",
       "         [0.07843138, 0.17254902, 0.30588236]],\n",
       "\n",
       "        [[0.15294118, 0.3647059 , 0.5372549 ],\n",
       "         [0.16078432, 0.37254903, 0.54509807],\n",
       "         [0.16862746, 0.38039216, 0.5529412 ],\n",
       "         ...,\n",
       "         [0.05098039, 0.18039216, 0.3019608 ],\n",
       "         [0.07058824, 0.2       , 0.32156864],\n",
       "         [0.07058824, 0.18431373, 0.30980393]],\n",
       "\n",
       "        [[0.15686275, 0.38039216, 0.54901963],\n",
       "         [0.16862746, 0.39215687, 0.56078434],\n",
       "         [0.16862746, 0.39215687, 0.56078434],\n",
       "         ...,\n",
       "         [0.05490196, 0.18431373, 0.3137255 ],\n",
       "         [0.05882353, 0.1882353 , 0.31764707],\n",
       "         [0.05882353, 0.19607843, 0.32156864]],\n",
       "\n",
       "        ...,\n",
       "\n",
       "        [[0.4745098 , 0.25490198, 0.25882354],\n",
       "         [0.41960785, 0.24705882, 0.24313726],\n",
       "         [0.31764707, 0.23529412, 0.22352941],\n",
       "         ...,\n",
       "         [0.5529412 , 0.33333334, 0.3764706 ],\n",
       "         [0.39607844, 0.25882354, 0.23529412],\n",
       "         [0.29411766, 0.25490198, 0.21568628]],\n",
       "\n",
       "        [[0.38431373, 0.23529412, 0.23137255],\n",
       "         [0.31764707, 0.20784314, 0.19607843],\n",
       "         [0.2901961 , 0.24705882, 0.23921569],\n",
       "         ...,\n",
       "         [0.34117648, 0.22745098, 0.24705882],\n",
       "         [0.28627452, 0.24705882, 0.20784314],\n",
       "         [0.2784314 , 0.25882354, 0.23529412]],\n",
       "\n",
       "        [[0.27450982, 0.21568628, 0.19607843],\n",
       "         [0.2627451 , 0.22352941, 0.21568628],\n",
       "         [0.2627451 , 0.25490198, 0.25882354],\n",
       "         ...,\n",
       "         [0.29411766, 0.2509804 , 0.27450982],\n",
       "         [0.22352941, 0.25490198, 0.20392157],\n",
       "         [0.23921569, 0.23529412, 0.21960784]]],\n",
       "\n",
       "\n",
       "       ...,\n",
       "\n",
       "\n",
       "       [[[0.28235295, 0.36078432, 0.21568628],\n",
       "         [0.21568628, 0.30980393, 0.18431373],\n",
       "         [0.21960784, 0.28627452, 0.21176471],\n",
       "         ...,\n",
       "         [0.62352943, 0.72156864, 0.6392157 ],\n",
       "         [0.4745098 , 0.60784316, 0.5411765 ],\n",
       "         [0.7529412 , 0.75686276, 0.6       ]],\n",
       "\n",
       "        [[0.40392157, 0.4509804 , 0.30980393],\n",
       "         [0.21568628, 0.26666668, 0.15686275],\n",
       "         [0.32156864, 0.3529412 , 0.27058825],\n",
       "         ...,\n",
       "         [0.6666667 , 0.7411765 , 0.654902  ],\n",
       "         [0.52156866, 0.5921569 , 0.49019608],\n",
       "         [0.46666667, 0.4745098 , 0.38039216]],\n",
       "\n",
       "        [[0.5372549 , 0.5686275 , 0.41568628],\n",
       "         [0.2       , 0.27450982, 0.16470589],\n",
       "         [0.19607843, 0.2901961 , 0.16470589],\n",
       "         ...,\n",
       "         [0.48235294, 0.5921569 , 0.54509807],\n",
       "         [0.5254902 , 0.72156864, 0.7176471 ],\n",
       "         [0.5882353 , 0.7019608 , 0.69411767]],\n",
       "\n",
       "        ...,\n",
       "\n",
       "        [[0.22352941, 0.23137255, 0.18039216],\n",
       "         [0.18039216, 0.18431373, 0.15294118],\n",
       "         [0.16470589, 0.16862746, 0.14509805],\n",
       "         ...,\n",
       "         [0.42745098, 0.3764706 , 0.3019608 ],\n",
       "         [0.41568628, 0.3647059 , 0.2901961 ],\n",
       "         [0.43529412, 0.38431373, 0.32156864]],\n",
       "\n",
       "        [[0.12941177, 0.14117648, 0.11372549],\n",
       "         [0.16078432, 0.17254902, 0.14509805],\n",
       "         [0.15686275, 0.16862746, 0.14117648],\n",
       "         ...,\n",
       "         [0.25882354, 0.27058825, 0.23529412],\n",
       "         [0.49019608, 0.5176471 , 0.3882353 ],\n",
       "         [0.4117647 , 0.49411765, 0.37254903]],\n",
       "\n",
       "        [[0.14117648, 0.15294118, 0.1254902 ],\n",
       "         [0.16470589, 0.1764706 , 0.14901961],\n",
       "         [0.13725491, 0.14901961, 0.12156863],\n",
       "         ...,\n",
       "         [0.2       , 0.23529412, 0.22352941],\n",
       "         [0.29411766, 0.38039216, 0.32941177],\n",
       "         [0.27058825, 0.41960785, 0.36078432]]],\n",
       "\n",
       "\n",
       "       [[[0.45882353, 0.3529412 , 0.42745098],\n",
       "         [0.45490196, 0.3529412 , 0.3882353 ],\n",
       "         [0.40392157, 0.34901962, 0.34901962],\n",
       "         ...,\n",
       "         [0.03921569, 0.07843138, 0.07450981],\n",
       "         [0.09803922, 0.1882353 , 0.15686275],\n",
       "         [0.16078432, 0.22352941, 0.22352941]],\n",
       "\n",
       "        [[0.47058824, 0.39215687, 0.43529412],\n",
       "         [0.45882353, 0.39607844, 0.4       ],\n",
       "         [0.4392157 , 0.35686275, 0.3764706 ],\n",
       "         ...,\n",
       "         [0.07843138, 0.09803922, 0.07450981],\n",
       "         [0.13725491, 0.25490198, 0.24705882],\n",
       "         [0.13725491, 0.24705882, 0.2509804 ]],\n",
       "\n",
       "        [[0.43529412, 0.36078432, 0.36862746],\n",
       "         [0.39607844, 0.3137255 , 0.34117648],\n",
       "         [0.40784314, 0.3647059 , 0.3882353 ],\n",
       "         ...,\n",
       "         [0.05098039, 0.09019608, 0.09803922],\n",
       "         [0.03921569, 0.08235294, 0.06666667],\n",
       "         [0.05882353, 0.09019608, 0.09803922]],\n",
       "\n",
       "        ...,\n",
       "\n",
       "        [[0.54901963, 0.4862745 , 0.42745098],\n",
       "         [0.5529412 , 0.49019608, 0.43137255],\n",
       "         [0.4745098 , 0.3882353 , 0.33333334],\n",
       "         ...,\n",
       "         [0.48235294, 0.49019608, 0.4392157 ],\n",
       "         [0.5921569 , 0.6       , 0.54509807],\n",
       "         [0.5058824 , 0.5058824 , 0.46666667]],\n",
       "\n",
       "        [[0.5058824 , 0.44705883, 0.42745098],\n",
       "         [0.31764707, 0.25490198, 0.20392157],\n",
       "         [0.41568628, 0.34901962, 0.31764707],\n",
       "         ...,\n",
       "         [0.6862745 , 0.69411767, 0.6745098 ],\n",
       "         [0.5058824 , 0.50980395, 0.49019608],\n",
       "         [0.5411765 , 0.5411765 , 0.50980395]],\n",
       "\n",
       "        [[0.52156866, 0.49019608, 0.47843137],\n",
       "         [0.42352942, 0.40784314, 0.3647059 ],\n",
       "         [0.45882353, 0.43137255, 0.39215687],\n",
       "         ...,\n",
       "         [0.5568628 , 0.56078434, 0.5058824 ],\n",
       "         [0.50980395, 0.5058824 , 0.4862745 ],\n",
       "         [0.60784316, 0.59607846, 0.5686275 ]]],\n",
       "\n",
       "\n",
       "       [[[0.44705883, 0.6862745 , 0.38039216],\n",
       "         [0.56078434, 0.6627451 , 0.5176471 ],\n",
       "         [0.10196079, 0.25490198, 0.03921569],\n",
       "         ...,\n",
       "         [0.50980395, 0.6117647 , 0.22352941],\n",
       "         [0.52156866, 0.8352941 , 0.5568628 ],\n",
       "         [0.04705882, 0.10196079, 0.05098039]],\n",
       "\n",
       "        [[0.41960785, 0.70980394, 0.50980395],\n",
       "         [0.26666668, 0.67058825, 0.2509804 ],\n",
       "         [0.06666667, 0.57254905, 0.2509804 ],\n",
       "         ...,\n",
       "         [0.05490196, 0.42745098, 0.06666667],\n",
       "         [0.57254905, 0.7607843 , 0.43137255],\n",
       "         [0.1254902 , 0.08627451, 0.09019608]],\n",
       "\n",
       "        [[0.42745098, 0.69803923, 0.43529412],\n",
       "         [0.43529412, 0.6627451 , 0.3647059 ],\n",
       "         [0.43137255, 0.5411765 , 0.20784314],\n",
       "         ...,\n",
       "         [0.14509805, 0.5294118 , 0.        ],\n",
       "         [0.3137255 , 0.40784314, 0.11764706],\n",
       "         [0.15294118, 0.12941177, 0.02745098]],\n",
       "\n",
       "        ...,\n",
       "\n",
       "        [[0.17254902, 0.2509804 , 0.05882353],\n",
       "         [0.00392157, 0.18039216, 0.09019608],\n",
       "         [0.21960784, 0.6784314 , 0.32156864],\n",
       "         ...,\n",
       "         [0.22745098, 0.25490198, 0.        ],\n",
       "         [0.23137255, 0.18039216, 0.00392157],\n",
       "         [0.5372549 , 0.5647059 , 0.04705882]],\n",
       "\n",
       "        [[0.49411765, 0.7176471 , 0.34509805],\n",
       "         [0.5294118 , 0.6313726 , 0.39215687],\n",
       "         [0.02745098, 0.36078432, 0.12941177],\n",
       "         ...,\n",
       "         [0.09019608, 0.27058825, 0.07843138],\n",
       "         [0.18431373, 0.24313726, 0.07450981],\n",
       "         [0.2627451 , 0.37254903, 0.07058824]],\n",
       "\n",
       "        [[0.6117647 , 0.7607843 , 0.43529412],\n",
       "         [0.6       , 0.6431373 , 0.23529412],\n",
       "         [0.23529412, 0.8156863 , 0.44705883],\n",
       "         ...,\n",
       "         [0.27450982, 0.3019608 , 0.        ],\n",
       "         [0.3764706 , 0.5176471 , 0.14117648],\n",
       "         [0.40784314, 0.58431375, 0.26666668]]]], dtype=float32)"
      ]
     },
     "execution_count": 34,
     "metadata": {},
     "output_type": "execute_result"
    }
   ],
   "source": [
    "images"
   ]
  },
  {
   "cell_type": "code",
   "execution_count": 36,
   "metadata": {},
   "outputs": [
    {
     "data": {
      "text/plain": [
       "array([0, 0, 0, ..., 2, 2, 2])"
      ]
     },
     "execution_count": 36,
     "metadata": {},
     "output_type": "execute_result"
    }
   ],
   "source": [
    "labels"
   ]
  },
  {
   "cell_type": "code",
   "execution_count": 33,
   "metadata": {},
   "outputs": [
    {
     "data": {
      "text/plain": [
       "(3000,)"
      ]
     },
     "execution_count": 33,
     "metadata": {},
     "output_type": "execute_result"
    }
   ],
   "source": [
    "labels.shape"
   ]
  },
  {
   "cell_type": "code",
   "execution_count": 4,
   "metadata": {},
   "outputs": [],
   "source": [
    "# Data Augmentation\n",
    "\n",
    "#Creating new train examples by applying\n",
    "#trasnformations to input data\n",
    "datagen = ImageDataGenerator(\n",
    "    rotation_range=40,\n",
    "    width_shift_range=0.2,\n",
    "    height_shift_range=0.2,\n",
    "    zoom_range=0.2,\n",
    "    horizontal_flip=True,\n",
    "    fill_mode='nearest'  #nearest available pixels\n",
    ")"
   ]
  },
  {
   "cell_type": "code",
   "execution_count": 25,
   "metadata": {
    "executionInfo": {
     "elapsed": 763,
     "status": "ok",
     "timestamp": 1712070502362,
     "user": {
      "displayName": "Blissful Audio Heaven",
      "userId": "03888708861664354096"
     },
     "user_tz": -330
    },
    "id": "E9ZdztihUomO"
   },
   "outputs": [],
   "source": [
    "# Train-validation-test split\n",
    "train_images, test_images, train_labels, test_labels = train_test_split(\n",
    "    images, labels, test_size=0.2, random_state=42\n",
    ")"
   ]
  },
  {
   "cell_type": "code",
   "execution_count": 26,
   "metadata": {
    "scrolled": true
   },
   "outputs": [
    {
     "data": {
      "text/plain": [
       "(2400, 150, 150, 3)"
      ]
     },
     "execution_count": 26,
     "metadata": {},
     "output_type": "execute_result"
    }
   ],
   "source": [
    "train_images.shape"
   ]
  },
  {
   "cell_type": "code",
   "execution_count": 27,
   "metadata": {},
   "outputs": [
    {
     "data": {
      "text/plain": [
       "(2400,)"
      ]
     },
     "execution_count": 27,
     "metadata": {},
     "output_type": "execute_result"
    }
   ],
   "source": [
    "train_labels.shape"
   ]
  },
  {
   "cell_type": "code",
   "execution_count": 6,
   "metadata": {},
   "outputs": [],
   "source": [
    "# Apply data augmentation to training data\n",
    "train_generator = datagen.flow(train_images, train_labels, batch_size=32)\n"
   ]
  },
  {
   "cell_type": "code",
   "execution_count": 28,
   "metadata": {},
   "outputs": [],
   "source": [
    "# Build the CNN model\n",
    "model = Sequential([\n",
    "    Conv2D(32, (3, 3), activation='relu', input_shape=(150, 150, 3)),\n",
    "    MaxPooling2D((2, 2)),#helps in reducing computational complexity and controlling overfitting.\n",
    "    Conv2D(64, (3, 3), activation='relu'),\n",
    "    MaxPooling2D((2, 2)),\n",
    "    Conv2D(128, (3, 3), activation='relu'),#lower features\n",
    "    MaxPooling2D((2, 2)),\n",
    "    Conv2D(128, (3, 3), activation='relu'),#more deeper features\n",
    "    MaxPooling2D((2, 2)),\n",
    "    Flatten(),\n",
    "    Dense(512, activation='relu'),\n",
    "    Dense(3, activation='softmax')  # Output layer with 3 neurons for 3 classes\n",
    "])\n",
    "\n",
    "\n"
   ]
  },
  {
   "cell_type": "code",
   "execution_count": 8,
   "metadata": {},
   "outputs": [],
   "source": [
    "# Compile the model\n",
    "model.compile(optimizer='adam', loss='sparse_categorical_crossentropy', metrics=['accuracy'])\n"
   ]
  },
  {
   "cell_type": "code",
   "execution_count": 11,
   "metadata": {},
   "outputs": [
    {
     "data": {
      "text/html": [
       "<pre style=\"white-space:pre;overflow-x:auto;line-height:normal;font-family:Menlo,'DejaVu Sans Mono',consolas,'Courier New',monospace\"><span style=\"font-weight: bold\">Model: \"sequential\"</span>\n",
       "</pre>\n"
      ],
      "text/plain": [
       "\u001b[1mModel: \"sequential\"\u001b[0m\n"
      ]
     },
     "metadata": {},
     "output_type": "display_data"
    },
    {
     "data": {
      "text/html": [
       "<pre style=\"white-space:pre;overflow-x:auto;line-height:normal;font-family:Menlo,'DejaVu Sans Mono',consolas,'Courier New',monospace\">┏━━━━━━━━━━━━━━━━━━━━━━━━━━━━━━━━━┳━━━━━━━━━━━━━━━━━━━━━━━━┳━━━━━━━━━━━━━━━┓\n",
       "┃<span style=\"font-weight: bold\"> Layer (type)                    </span>┃<span style=\"font-weight: bold\"> Output Shape           </span>┃<span style=\"font-weight: bold\">       Param # </span>┃\n",
       "┡━━━━━━━━━━━━━━━━━━━━━━━━━━━━━━━━━╇━━━━━━━━━━━━━━━━━━━━━━━━╇━━━━━━━━━━━━━━━┩\n",
       "│ conv2d (<span style=\"color: #0087ff; text-decoration-color: #0087ff\">Conv2D</span>)                 │ (<span style=\"color: #00d7ff; text-decoration-color: #00d7ff\">None</span>, <span style=\"color: #00af00; text-decoration-color: #00af00\">148</span>, <span style=\"color: #00af00; text-decoration-color: #00af00\">148</span>, <span style=\"color: #00af00; text-decoration-color: #00af00\">32</span>)   │           <span style=\"color: #00af00; text-decoration-color: #00af00\">896</span> │\n",
       "├─────────────────────────────────┼────────────────────────┼───────────────┤\n",
       "│ max_pooling2d (<span style=\"color: #0087ff; text-decoration-color: #0087ff\">MaxPooling2D</span>)    │ (<span style=\"color: #00d7ff; text-decoration-color: #00d7ff\">None</span>, <span style=\"color: #00af00; text-decoration-color: #00af00\">74</span>, <span style=\"color: #00af00; text-decoration-color: #00af00\">74</span>, <span style=\"color: #00af00; text-decoration-color: #00af00\">32</span>)     │             <span style=\"color: #00af00; text-decoration-color: #00af00\">0</span> │\n",
       "├─────────────────────────────────┼────────────────────────┼───────────────┤\n",
       "│ conv2d_1 (<span style=\"color: #0087ff; text-decoration-color: #0087ff\">Conv2D</span>)               │ (<span style=\"color: #00d7ff; text-decoration-color: #00d7ff\">None</span>, <span style=\"color: #00af00; text-decoration-color: #00af00\">72</span>, <span style=\"color: #00af00; text-decoration-color: #00af00\">72</span>, <span style=\"color: #00af00; text-decoration-color: #00af00\">64</span>)     │        <span style=\"color: #00af00; text-decoration-color: #00af00\">18,496</span> │\n",
       "├─────────────────────────────────┼────────────────────────┼───────────────┤\n",
       "│ max_pooling2d_1 (<span style=\"color: #0087ff; text-decoration-color: #0087ff\">MaxPooling2D</span>)  │ (<span style=\"color: #00d7ff; text-decoration-color: #00d7ff\">None</span>, <span style=\"color: #00af00; text-decoration-color: #00af00\">36</span>, <span style=\"color: #00af00; text-decoration-color: #00af00\">36</span>, <span style=\"color: #00af00; text-decoration-color: #00af00\">64</span>)     │             <span style=\"color: #00af00; text-decoration-color: #00af00\">0</span> │\n",
       "├─────────────────────────────────┼────────────────────────┼───────────────┤\n",
       "│ conv2d_2 (<span style=\"color: #0087ff; text-decoration-color: #0087ff\">Conv2D</span>)               │ (<span style=\"color: #00d7ff; text-decoration-color: #00d7ff\">None</span>, <span style=\"color: #00af00; text-decoration-color: #00af00\">34</span>, <span style=\"color: #00af00; text-decoration-color: #00af00\">34</span>, <span style=\"color: #00af00; text-decoration-color: #00af00\">128</span>)    │        <span style=\"color: #00af00; text-decoration-color: #00af00\">73,856</span> │\n",
       "├─────────────────────────────────┼────────────────────────┼───────────────┤\n",
       "│ max_pooling2d_2 (<span style=\"color: #0087ff; text-decoration-color: #0087ff\">MaxPooling2D</span>)  │ (<span style=\"color: #00d7ff; text-decoration-color: #00d7ff\">None</span>, <span style=\"color: #00af00; text-decoration-color: #00af00\">17</span>, <span style=\"color: #00af00; text-decoration-color: #00af00\">17</span>, <span style=\"color: #00af00; text-decoration-color: #00af00\">128</span>)    │             <span style=\"color: #00af00; text-decoration-color: #00af00\">0</span> │\n",
       "├─────────────────────────────────┼────────────────────────┼───────────────┤\n",
       "│ flatten (<span style=\"color: #0087ff; text-decoration-color: #0087ff\">Flatten</span>)               │ (<span style=\"color: #00d7ff; text-decoration-color: #00d7ff\">None</span>, <span style=\"color: #00af00; text-decoration-color: #00af00\">36992</span>)          │             <span style=\"color: #00af00; text-decoration-color: #00af00\">0</span> │\n",
       "├─────────────────────────────────┼────────────────────────┼───────────────┤\n",
       "│ dense (<span style=\"color: #0087ff; text-decoration-color: #0087ff\">Dense</span>)                   │ (<span style=\"color: #00d7ff; text-decoration-color: #00d7ff\">None</span>, <span style=\"color: #00af00; text-decoration-color: #00af00\">512</span>)            │    <span style=\"color: #00af00; text-decoration-color: #00af00\">18,940,416</span> │\n",
       "├─────────────────────────────────┼────────────────────────┼───────────────┤\n",
       "│ dense_1 (<span style=\"color: #0087ff; text-decoration-color: #0087ff\">Dense</span>)                 │ (<span style=\"color: #00d7ff; text-decoration-color: #00d7ff\">None</span>, <span style=\"color: #00af00; text-decoration-color: #00af00\">3</span>)              │         <span style=\"color: #00af00; text-decoration-color: #00af00\">1,539</span> │\n",
       "└─────────────────────────────────┴────────────────────────┴───────────────┘\n",
       "</pre>\n"
      ],
      "text/plain": [
       "┏━━━━━━━━━━━━━━━━━━━━━━━━━━━━━━━━━┳━━━━━━━━━━━━━━━━━━━━━━━━┳━━━━━━━━━━━━━━━┓\n",
       "┃\u001b[1m \u001b[0m\u001b[1mLayer (type)                   \u001b[0m\u001b[1m \u001b[0m┃\u001b[1m \u001b[0m\u001b[1mOutput Shape          \u001b[0m\u001b[1m \u001b[0m┃\u001b[1m \u001b[0m\u001b[1m      Param #\u001b[0m\u001b[1m \u001b[0m┃\n",
       "┡━━━━━━━━━━━━━━━━━━━━━━━━━━━━━━━━━╇━━━━━━━━━━━━━━━━━━━━━━━━╇━━━━━━━━━━━━━━━┩\n",
       "│ conv2d (\u001b[38;5;33mConv2D\u001b[0m)                 │ (\u001b[38;5;45mNone\u001b[0m, \u001b[38;5;34m148\u001b[0m, \u001b[38;5;34m148\u001b[0m, \u001b[38;5;34m32\u001b[0m)   │           \u001b[38;5;34m896\u001b[0m │\n",
       "├─────────────────────────────────┼────────────────────────┼───────────────┤\n",
       "│ max_pooling2d (\u001b[38;5;33mMaxPooling2D\u001b[0m)    │ (\u001b[38;5;45mNone\u001b[0m, \u001b[38;5;34m74\u001b[0m, \u001b[38;5;34m74\u001b[0m, \u001b[38;5;34m32\u001b[0m)     │             \u001b[38;5;34m0\u001b[0m │\n",
       "├─────────────────────────────────┼────────────────────────┼───────────────┤\n",
       "│ conv2d_1 (\u001b[38;5;33mConv2D\u001b[0m)               │ (\u001b[38;5;45mNone\u001b[0m, \u001b[38;5;34m72\u001b[0m, \u001b[38;5;34m72\u001b[0m, \u001b[38;5;34m64\u001b[0m)     │        \u001b[38;5;34m18,496\u001b[0m │\n",
       "├─────────────────────────────────┼────────────────────────┼───────────────┤\n",
       "│ max_pooling2d_1 (\u001b[38;5;33mMaxPooling2D\u001b[0m)  │ (\u001b[38;5;45mNone\u001b[0m, \u001b[38;5;34m36\u001b[0m, \u001b[38;5;34m36\u001b[0m, \u001b[38;5;34m64\u001b[0m)     │             \u001b[38;5;34m0\u001b[0m │\n",
       "├─────────────────────────────────┼────────────────────────┼───────────────┤\n",
       "│ conv2d_2 (\u001b[38;5;33mConv2D\u001b[0m)               │ (\u001b[38;5;45mNone\u001b[0m, \u001b[38;5;34m34\u001b[0m, \u001b[38;5;34m34\u001b[0m, \u001b[38;5;34m128\u001b[0m)    │        \u001b[38;5;34m73,856\u001b[0m │\n",
       "├─────────────────────────────────┼────────────────────────┼───────────────┤\n",
       "│ max_pooling2d_2 (\u001b[38;5;33mMaxPooling2D\u001b[0m)  │ (\u001b[38;5;45mNone\u001b[0m, \u001b[38;5;34m17\u001b[0m, \u001b[38;5;34m17\u001b[0m, \u001b[38;5;34m128\u001b[0m)    │             \u001b[38;5;34m0\u001b[0m │\n",
       "├─────────────────────────────────┼────────────────────────┼───────────────┤\n",
       "│ flatten (\u001b[38;5;33mFlatten\u001b[0m)               │ (\u001b[38;5;45mNone\u001b[0m, \u001b[38;5;34m36992\u001b[0m)          │             \u001b[38;5;34m0\u001b[0m │\n",
       "├─────────────────────────────────┼────────────────────────┼───────────────┤\n",
       "│ dense (\u001b[38;5;33mDense\u001b[0m)                   │ (\u001b[38;5;45mNone\u001b[0m, \u001b[38;5;34m512\u001b[0m)            │    \u001b[38;5;34m18,940,416\u001b[0m │\n",
       "├─────────────────────────────────┼────────────────────────┼───────────────┤\n",
       "│ dense_1 (\u001b[38;5;33mDense\u001b[0m)                 │ (\u001b[38;5;45mNone\u001b[0m, \u001b[38;5;34m3\u001b[0m)              │         \u001b[38;5;34m1,539\u001b[0m │\n",
       "└─────────────────────────────────┴────────────────────────┴───────────────┘\n"
      ]
     },
     "metadata": {},
     "output_type": "display_data"
    },
    {
     "data": {
      "text/html": [
       "<pre style=\"white-space:pre;overflow-x:auto;line-height:normal;font-family:Menlo,'DejaVu Sans Mono',consolas,'Courier New',monospace\"><span style=\"font-weight: bold\"> Total params: </span><span style=\"color: #00af00; text-decoration-color: #00af00\">19,035,203</span> (72.61 MB)\n",
       "</pre>\n"
      ],
      "text/plain": [
       "\u001b[1m Total params: \u001b[0m\u001b[38;5;34m19,035,203\u001b[0m (72.61 MB)\n"
      ]
     },
     "metadata": {},
     "output_type": "display_data"
    },
    {
     "data": {
      "text/html": [
       "<pre style=\"white-space:pre;overflow-x:auto;line-height:normal;font-family:Menlo,'DejaVu Sans Mono',consolas,'Courier New',monospace\"><span style=\"font-weight: bold\"> Trainable params: </span><span style=\"color: #00af00; text-decoration-color: #00af00\">19,035,203</span> (72.61 MB)\n",
       "</pre>\n"
      ],
      "text/plain": [
       "\u001b[1m Trainable params: \u001b[0m\u001b[38;5;34m19,035,203\u001b[0m (72.61 MB)\n"
      ]
     },
     "metadata": {},
     "output_type": "display_data"
    },
    {
     "data": {
      "text/html": [
       "<pre style=\"white-space:pre;overflow-x:auto;line-height:normal;font-family:Menlo,'DejaVu Sans Mono',consolas,'Courier New',monospace\"><span style=\"font-weight: bold\"> Non-trainable params: </span><span style=\"color: #00af00; text-decoration-color: #00af00\">0</span> (0.00 B)\n",
       "</pre>\n"
      ],
      "text/plain": [
       "\u001b[1m Non-trainable params: \u001b[0m\u001b[38;5;34m0\u001b[0m (0.00 B)\n"
      ]
     },
     "metadata": {},
     "output_type": "display_data"
    }
   ],
   "source": [
    "model.summary()"
   ]
  },
  {
   "cell_type": "code",
   "execution_count": 29,
   "metadata": {},
   "outputs": [],
   "source": [
    "# Define callbacks\n",
    "checkpoint_path = \"model_checkpoint.keras\"\n",
    "checkpoint = ModelCheckpoint(checkpoint_path, monitor='val_accuracy', verbose=1, save_best_only=True, mode='max')\n"
   ]
  },
  {
   "cell_type": "code",
   "execution_count": 30,
   "metadata": {},
   "outputs": [
    {
     "data": {
      "text/plain": [
       "(600, 150, 150, 3)"
      ]
     },
     "execution_count": 30,
     "metadata": {},
     "output_type": "execute_result"
    }
   ],
   "source": [
    "\n",
    "test_images.shape"
   ]
  },
  {
   "cell_type": "code",
   "execution_count": 31,
   "metadata": {},
   "outputs": [
    {
     "data": {
      "text/plain": [
       "(600,)"
      ]
     },
     "execution_count": 31,
     "metadata": {},
     "output_type": "execute_result"
    }
   ],
   "source": [
    "test_labels.shape"
   ]
  },
  {
   "cell_type": "code",
   "execution_count": 13,
   "metadata": {},
   "outputs": [
    {
     "name": "stdout",
     "output_type": "stream",
     "text": [
      "Epoch 1/5\n"
     ]
    },
    {
     "name": "stderr",
     "output_type": "stream",
     "text": [
      "/opt/anaconda3/lib/python3.11/site-packages/keras/src/trainers/data_adapters/py_dataset_adapter.py:120: UserWarning: Your `PyDataset` class should call `super().__init__(**kwargs)` in its constructor. `**kwargs` can include `workers`, `use_multiprocessing`, `max_queue_size`. Do not pass these arguments to `fit()`, as they will be ignored.\n",
      "  self._warn_if_super_not_called()\n"
     ]
    },
    {
     "name": "stdout",
     "output_type": "stream",
     "text": [
      "\u001b[1m66/66\u001b[0m \u001b[32m━━━━━━━━━━━━━━━━━━━━\u001b[0m\u001b[37m\u001b[0m \u001b[1m0s\u001b[0m 1s/step - accuracy: 0.4022 - loss: 1.3913\n",
      "Epoch 1: val_accuracy improved from -inf to 0.56556, saving model to model_checkpoint.keras\n",
      "\u001b[1m66/66\u001b[0m \u001b[32m━━━━━━━━━━━━━━━━━━━━\u001b[0m\u001b[37m\u001b[0m \u001b[1m107s\u001b[0m 2s/step - accuracy: 0.4035 - loss: 1.3867 - val_accuracy: 0.5656 - val_loss: 0.8912\n",
      "Epoch 2/5\n",
      "\u001b[1m66/66\u001b[0m \u001b[32m━━━━━━━━━━━━━━━━━━━━\u001b[0m\u001b[37m\u001b[0m \u001b[1m0s\u001b[0m 1s/step - accuracy: 0.6012 - loss: 0.8385\n",
      "Epoch 2: val_accuracy improved from 0.56556 to 0.59444, saving model to model_checkpoint.keras\n",
      "\u001b[1m66/66\u001b[0m \u001b[32m━━━━━━━━━━━━━━━━━━━━\u001b[0m\u001b[37m\u001b[0m \u001b[1m131s\u001b[0m 1s/step - accuracy: 0.6011 - loss: 0.8381 - val_accuracy: 0.5944 - val_loss: 0.7835\n",
      "Epoch 3/5\n",
      "\u001b[1m66/66\u001b[0m \u001b[32m━━━━━━━━━━━━━━━━━━━━\u001b[0m\u001b[37m\u001b[0m \u001b[1m0s\u001b[0m 1s/step - accuracy: 0.6317 - loss: 0.7312\n",
      "Epoch 3: val_accuracy did not improve from 0.59444\n",
      "\u001b[1m66/66\u001b[0m \u001b[32m━━━━━━━━━━━━━━━━━━━━\u001b[0m\u001b[37m\u001b[0m \u001b[1m90s\u001b[0m 1s/step - accuracy: 0.6317 - loss: 0.7315 - val_accuracy: 0.5556 - val_loss: 1.0233\n",
      "Epoch 4/5\n",
      "\u001b[1m66/66\u001b[0m \u001b[32m━━━━━━━━━━━━━━━━━━━━\u001b[0m\u001b[37m\u001b[0m \u001b[1m0s\u001b[0m 1s/step - accuracy: 0.6485 - loss: 0.7273\n",
      "Epoch 4: val_accuracy did not improve from 0.59444\n",
      "\u001b[1m66/66\u001b[0m \u001b[32m━━━━━━━━━━━━━━━━━━━━\u001b[0m\u001b[37m\u001b[0m \u001b[1m92s\u001b[0m 1s/step - accuracy: 0.6485 - loss: 0.7273 - val_accuracy: 0.5644 - val_loss: 1.0047\n",
      "Epoch 5/5\n",
      "\u001b[1m66/66\u001b[0m \u001b[32m━━━━━━━━━━━━━━━━━━━━\u001b[0m\u001b[37m\u001b[0m \u001b[1m0s\u001b[0m 1s/step - accuracy: 0.6640 - loss: 0.6929\n",
      "Epoch 5: val_accuracy improved from 0.59444 to 0.67778, saving model to model_checkpoint.keras\n",
      "\u001b[1m66/66\u001b[0m \u001b[32m━━━━━━━━━━━━━━━━━━━━\u001b[0m\u001b[37m\u001b[0m \u001b[1m102s\u001b[0m 2s/step - accuracy: 0.6641 - loss: 0.6928 - val_accuracy: 0.6778 - val_loss: 0.7493\n"
     ]
    }
   ],
   "source": [
    "# Train the model\n",
    "history = model.fit(train_generator, epochs=5, validation_data=(test_images, test_labels), callbacks=[checkpoint])\n"
   ]
  },
  {
   "cell_type": "code",
   "execution_count": 14,
   "metadata": {
    "colab": {
     "base_uri": "https://localhost:8080/"
    },
    "executionInfo": {
     "elapsed": 89044,
     "status": "ok",
     "timestamp": 1712070591402,
     "user": {
      "displayName": "Blissful Audio Heaven",
      "userId": "03888708861664354096"
     },
     "user_tz": -330
    },
    "id": "yNYwISlIUzOM",
    "outputId": "013f41bd-4513-4762-e87c-af1e67f9bf8f"
   },
   "outputs": [],
   "source": [
    "\n",
    "# Save the final model\n",
    "model.save(\"final_model.keras\")"
   ]
  },
  {
   "cell_type": "code",
   "execution_count": 15,
   "metadata": {
    "colab": {
     "base_uri": "https://localhost:8080/",
     "height": 449
    },
    "executionInfo": {
     "elapsed": 13,
     "status": "ok",
     "timestamp": 1712070591403,
     "user": {
      "displayName": "Blissful Audio Heaven",
      "userId": "03888708861664354096"
     },
     "user_tz": -330
    },
    "id": "x8ixn3CdU72q",
    "outputId": "fcc36e2a-0d2c-4a4c-d4a1-4e5f0fbcbb66"
   },
   "outputs": [
    {
     "data": {
      "image/png": "[encoded data removed]",
      "text/plain": [
       "<Figure size 640x480 with 1 Axes>"
      ]
     },
     "metadata": {},
     "output_type": "display_data"
    }
   ],
   "source": [
    "# Plot training and validation accuracy\n",
    "plt.plot(history.history['accuracy'], label='accuracy')\n",
    "plt.plot(history.history['val_accuracy'], label='val_accuracy')\n",
    "plt.xlabel('Epoch')\n",
    "plt.ylabel('Accuracy')\n",
    "plt.legend()\n",
    "plt.show()"
   ]
  },
  {
   "cell_type": "code",
   "execution_count": 16,
   "metadata": {
    "colab": {
     "base_uri": "https://localhost:8080/"
    },
    "executionInfo": {
     "elapsed": 3538,
     "status": "ok",
     "timestamp": 1712070594933,
     "user": {
      "displayName": "Blissful Audio Heaven",
      "userId": "03888708861664354096"
     },
     "user_tz": -330
    },
    "id": "guM3LzhXVC61",
    "outputId": "a5acb0d3-62c8-4e10-f450-f7e50b633209"
   },
   "outputs": [
    {
     "name": "stdout",
     "output_type": "stream",
     "text": [
      "\u001b[1m29/29\u001b[0m \u001b[32m━━━━━━━━━━━━━━━━━━━━\u001b[0m\u001b[37m\u001b[0m \u001b[1m8s\u001b[0m 252ms/step\n"
     ]
    }
   ],
   "source": [
    "# Generate predictions\n",
    "predictions = model.predict(test_images)\n",
    "predicted_labels = np.argmax(predictions, axis=1)\n"
   ]
  },
  {
   "cell_type": "code",
   "execution_count": 17,
   "metadata": {},
   "outputs": [
    {
     "name": "stdout",
     "output_type": "stream",
     "text": [
      "              precision    recall  f1-score   support\n",
      "\n",
      "           0       0.62      0.62      0.62       313\n",
      "           1       0.61      0.45      0.52       291\n",
      "           2       0.76      0.96      0.85       296\n",
      "\n",
      "    accuracy                           0.68       900\n",
      "   macro avg       0.67      0.68      0.66       900\n",
      "weighted avg       0.66      0.68      0.66       900\n",
      "\n"
     ]
    }
   ],
   "source": [
    "\n",
    "# Generate classification report\n",
    "print(classification_report(test_labels, predicted_labels))"
   ]
  },
  {
   "cell_type": "code",
   "execution_count": 18,
   "metadata": {
    "colab": {
     "base_uri": "https://localhost:8080/"
    },
    "executionInfo": {
     "elapsed": 8,
     "status": "ok",
     "timestamp": 1712070594934,
     "user": {
      "displayName": "Blissful Audio Heaven",
      "userId": "03888708861664354096"
     },
     "user_tz": -330
    },
    "id": "thz8dDP2VkXJ",
    "outputId": "b20de4ae-fc25-48ab-f702-ba49159f0a56"
   },
   "outputs": [
    {
     "name": "stdout",
     "output_type": "stream",
     "text": [
      "Confusion Matrix:\n",
      "[[195  74  44]\n",
      " [115 130  46]\n",
      " [  2   9 285]]\n"
     ]
    }
   ],
   "source": [
    "from sklearn.metrics import confusion_matrix\n",
    "\n",
    "# Assuming test_labels and predicted_labels are the true labels and predicted labels respectively\n",
    "# test_labels: true labels of the test sset\n",
    "# predicted_labels: predicted labels by your model\n",
    "\n",
    "# Generate confusion matrix\n",
    "cm = confusion_matrix(test_labels, predicted_labels)\n",
    "\n",
    "print(\"Confusion Matrix:\")\n",
    "print(cm)\n"
   ]
  },
  {
   "cell_type": "code",
   "execution_count": null,
   "metadata": {},
   "outputs": [],
   "source": []
  }
 ],
 "metadata": {
  "accelerator": "GPU",
  "colab": {
   "gpuType": "T4",
   "provenance": []
  },
  "kernelspec": {
   "display_name": "Python 3 (ipykernel)",
   "language": "python",
   "name": "python3"
  },
  "language_info": {
   "codemirror_mode": {
    "name": "ipython",
    "version": 3
   },
   "file_extension": ".py",
   "mimetype": "text/x-python",
   "name": "python",
   "nbconvert_exporter": "python",
   "pygments_lexer": "ipython3",
   "version": "3.11.7"
  }
 },
 "nbformat": 4,
 "nbformat_minor": 4
}
