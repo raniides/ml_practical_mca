{
 "cells": [
  {
   "cell_type": "code",
   "execution_count": 1,
   "id": "bb9a980b-09c2-42db-a05d-9263d41c97f1",
   "metadata": {},
   "outputs": [],
   "source": [
    "import pandas as pd"
   ]
  },
  {
   "cell_type": "code",
   "execution_count": 2,
   "id": "4699e812-3f19-4e33-bca2-6a706f0ef0d7",
   "metadata": {},
   "outputs": [],
   "source": [
    "drybean = pd.read_csv(\"Dry_Bean_Dataset.csv\")"
   ]
  },
  {
   "cell_type": "code",
   "execution_count": 4,
   "id": "dee6160c-e40b-44b5-adfe-204931c9bbda",
   "metadata": {},
   "outputs": [
    {
     "data": {
      "text/html": [
       "<div>\n",
       "<style scoped>\n",
       "    .dataframe tbody tr th:only-of-type {\n",
       "        vertical-align: middle;\n",
       "    }\n",
       "\n",
       "    .dataframe tbody tr th {\n",
       "        vertical-align: top;\n",
       "    }\n",
       "\n",
       "    .dataframe thead th {\n",
       "        text-align: right;\n",
       "    }\n",
       "</style>\n",
       "<table border=\"1\" class=\"dataframe\">\n",
       "  <thead>\n",
       "    <tr style=\"text-align: right;\">\n",
       "      <th></th>\n",
       "      <th>Area</th>\n",
       "      <th>Perimeter</th>\n",
       "      <th>MajorAxisLength</th>\n",
       "      <th>MinorAxisLength</th>\n",
       "      <th>AspectRation</th>\n",
       "      <th>Eccentricity</th>\n",
       "      <th>ConvexArea</th>\n",
       "      <th>EquivDiameter</th>\n",
       "      <th>Extent</th>\n",
       "      <th>Solidity</th>\n",
       "      <th>roundness</th>\n",
       "      <th>Compactness</th>\n",
       "      <th>ShapeFactor1</th>\n",
       "      <th>ShapeFactor2</th>\n",
       "      <th>ShapeFactor3</th>\n",
       "      <th>ShapeFactor4</th>\n",
       "      <th>Class</th>\n",
       "    </tr>\n",
       "  </thead>\n",
       "  <tbody>\n",
       "    <tr>\n",
       "      <th>0</th>\n",
       "      <td>28395</td>\n",
       "      <td>610.291</td>\n",
       "      <td>208.178117</td>\n",
       "      <td>173.888747</td>\n",
       "      <td>1.197191</td>\n",
       "      <td>0.549812</td>\n",
       "      <td>28715</td>\n",
       "      <td>190.141097</td>\n",
       "      <td>0.763923</td>\n",
       "      <td>0.988856</td>\n",
       "      <td>0.958027</td>\n",
       "      <td>0.913358</td>\n",
       "      <td>0.007332</td>\n",
       "      <td>0.003147</td>\n",
       "      <td>0.834222</td>\n",
       "      <td>0.998724</td>\n",
       "      <td>SEKER</td>\n",
       "    </tr>\n",
       "    <tr>\n",
       "      <th>1</th>\n",
       "      <td>28734</td>\n",
       "      <td>638.018</td>\n",
       "      <td>200.524796</td>\n",
       "      <td>182.734419</td>\n",
       "      <td>1.097356</td>\n",
       "      <td>0.411785</td>\n",
       "      <td>29172</td>\n",
       "      <td>191.272751</td>\n",
       "      <td>0.783968</td>\n",
       "      <td>0.984986</td>\n",
       "      <td>0.887034</td>\n",
       "      <td>0.953861</td>\n",
       "      <td>0.006979</td>\n",
       "      <td>0.003564</td>\n",
       "      <td>0.909851</td>\n",
       "      <td>0.998430</td>\n",
       "      <td>SEKER</td>\n",
       "    </tr>\n",
       "    <tr>\n",
       "      <th>2</th>\n",
       "      <td>29380</td>\n",
       "      <td>624.110</td>\n",
       "      <td>212.826130</td>\n",
       "      <td>175.931143</td>\n",
       "      <td>1.209713</td>\n",
       "      <td>0.562727</td>\n",
       "      <td>29690</td>\n",
       "      <td>193.410904</td>\n",
       "      <td>0.778113</td>\n",
       "      <td>0.989559</td>\n",
       "      <td>0.947849</td>\n",
       "      <td>0.908774</td>\n",
       "      <td>0.007244</td>\n",
       "      <td>0.003048</td>\n",
       "      <td>0.825871</td>\n",
       "      <td>0.999066</td>\n",
       "      <td>SEKER</td>\n",
       "    </tr>\n",
       "  </tbody>\n",
       "</table>\n",
       "</div>"
      ],
      "text/plain": [
       "    Area  Perimeter  MajorAxisLength  MinorAxisLength  AspectRation  \\\n",
       "0  28395    610.291       208.178117       173.888747      1.197191   \n",
       "1  28734    638.018       200.524796       182.734419      1.097356   \n",
       "2  29380    624.110       212.826130       175.931143      1.209713   \n",
       "\n",
       "   Eccentricity  ConvexArea  EquivDiameter    Extent  Solidity  roundness  \\\n",
       "0      0.549812       28715     190.141097  0.763923  0.988856   0.958027   \n",
       "1      0.411785       29172     191.272751  0.783968  0.984986   0.887034   \n",
       "2      0.562727       29690     193.410904  0.778113  0.989559   0.947849   \n",
       "\n",
       "   Compactness  ShapeFactor1  ShapeFactor2  ShapeFactor3  ShapeFactor4  Class  \n",
       "0     0.913358      0.007332      0.003147      0.834222      0.998724  SEKER  \n",
       "1     0.953861      0.006979      0.003564      0.909851      0.998430  SEKER  \n",
       "2     0.908774      0.007244      0.003048      0.825871      0.999066  SEKER  "
      ]
     },
     "execution_count": 4,
     "metadata": {},
     "output_type": "execute_result"
    }
   ],
   "source": [
    "drybean.head(3)"
   ]
  },
  {
   "cell_type": "code",
   "execution_count": 5,
   "id": "b2297c76-6646-4297-aa17-58ea3a00bbc9",
   "metadata": {},
   "outputs": [
    {
     "data": {
      "text/html": [
       "<div>\n",
       "<style scoped>\n",
       "    .dataframe tbody tr th:only-of-type {\n",
       "        vertical-align: middle;\n",
       "    }\n",
       "\n",
       "    .dataframe tbody tr th {\n",
       "        vertical-align: top;\n",
       "    }\n",
       "\n",
       "    .dataframe thead th {\n",
       "        text-align: right;\n",
       "    }\n",
       "</style>\n",
       "<table border=\"1\" class=\"dataframe\">\n",
       "  <thead>\n",
       "    <tr style=\"text-align: right;\">\n",
       "      <th></th>\n",
       "      <th>Area</th>\n",
       "      <th>Perimeter</th>\n",
       "      <th>MajorAxisLength</th>\n",
       "      <th>MinorAxisLength</th>\n",
       "      <th>AspectRation</th>\n",
       "      <th>Eccentricity</th>\n",
       "      <th>ConvexArea</th>\n",
       "      <th>EquivDiameter</th>\n",
       "      <th>Extent</th>\n",
       "      <th>Solidity</th>\n",
       "      <th>roundness</th>\n",
       "      <th>Compactness</th>\n",
       "      <th>ShapeFactor1</th>\n",
       "      <th>ShapeFactor2</th>\n",
       "      <th>ShapeFactor3</th>\n",
       "      <th>ShapeFactor4</th>\n",
       "    </tr>\n",
       "  </thead>\n",
       "  <tbody>\n",
       "    <tr>\n",
       "      <th>count</th>\n",
       "      <td>13611.000000</td>\n",
       "      <td>13611.000000</td>\n",
       "      <td>13611.000000</td>\n",
       "      <td>13611.000000</td>\n",
       "      <td>13611.000000</td>\n",
       "      <td>13611.000000</td>\n",
       "      <td>13611.000000</td>\n",
       "      <td>13611.000000</td>\n",
       "      <td>13611.000000</td>\n",
       "      <td>13611.000000</td>\n",
       "      <td>13611.000000</td>\n",
       "      <td>13611.000000</td>\n",
       "      <td>13611.000000</td>\n",
       "      <td>13611.000000</td>\n",
       "      <td>13611.000000</td>\n",
       "      <td>13611.000000</td>\n",
       "    </tr>\n",
       "    <tr>\n",
       "      <th>mean</th>\n",
       "      <td>53048.284549</td>\n",
       "      <td>855.283459</td>\n",
       "      <td>320.141867</td>\n",
       "      <td>202.270714</td>\n",
       "      <td>1.583242</td>\n",
       "      <td>0.750895</td>\n",
       "      <td>53768.200206</td>\n",
       "      <td>253.064220</td>\n",
       "      <td>0.749733</td>\n",
       "      <td>0.987143</td>\n",
       "      <td>0.873282</td>\n",
       "      <td>0.799864</td>\n",
       "      <td>0.006564</td>\n",
       "      <td>0.001716</td>\n",
       "      <td>0.643590</td>\n",
       "      <td>0.995063</td>\n",
       "    </tr>\n",
       "    <tr>\n",
       "      <th>std</th>\n",
       "      <td>29324.095717</td>\n",
       "      <td>214.289696</td>\n",
       "      <td>85.694186</td>\n",
       "      <td>44.970091</td>\n",
       "      <td>0.246678</td>\n",
       "      <td>0.092002</td>\n",
       "      <td>29774.915817</td>\n",
       "      <td>59.177120</td>\n",
       "      <td>0.049086</td>\n",
       "      <td>0.004660</td>\n",
       "      <td>0.059520</td>\n",
       "      <td>0.061713</td>\n",
       "      <td>0.001128</td>\n",
       "      <td>0.000596</td>\n",
       "      <td>0.098996</td>\n",
       "      <td>0.004366</td>\n",
       "    </tr>\n",
       "    <tr>\n",
       "      <th>min</th>\n",
       "      <td>20420.000000</td>\n",
       "      <td>524.736000</td>\n",
       "      <td>183.601165</td>\n",
       "      <td>122.512653</td>\n",
       "      <td>1.024868</td>\n",
       "      <td>0.218951</td>\n",
       "      <td>20684.000000</td>\n",
       "      <td>161.243764</td>\n",
       "      <td>0.555315</td>\n",
       "      <td>0.919246</td>\n",
       "      <td>0.489618</td>\n",
       "      <td>0.640577</td>\n",
       "      <td>0.002778</td>\n",
       "      <td>0.000564</td>\n",
       "      <td>0.410339</td>\n",
       "      <td>0.947687</td>\n",
       "    </tr>\n",
       "    <tr>\n",
       "      <th>25%</th>\n",
       "      <td>36328.000000</td>\n",
       "      <td>703.523500</td>\n",
       "      <td>253.303633</td>\n",
       "      <td>175.848170</td>\n",
       "      <td>1.432307</td>\n",
       "      <td>0.715928</td>\n",
       "      <td>36714.500000</td>\n",
       "      <td>215.068003</td>\n",
       "      <td>0.718634</td>\n",
       "      <td>0.985670</td>\n",
       "      <td>0.832096</td>\n",
       "      <td>0.762469</td>\n",
       "      <td>0.005900</td>\n",
       "      <td>0.001154</td>\n",
       "      <td>0.581359</td>\n",
       "      <td>0.993703</td>\n",
       "    </tr>\n",
       "    <tr>\n",
       "      <th>50%</th>\n",
       "      <td>44652.000000</td>\n",
       "      <td>794.941000</td>\n",
       "      <td>296.883367</td>\n",
       "      <td>192.431733</td>\n",
       "      <td>1.551124</td>\n",
       "      <td>0.764441</td>\n",
       "      <td>45178.000000</td>\n",
       "      <td>238.438026</td>\n",
       "      <td>0.759859</td>\n",
       "      <td>0.988283</td>\n",
       "      <td>0.883157</td>\n",
       "      <td>0.801277</td>\n",
       "      <td>0.006645</td>\n",
       "      <td>0.001694</td>\n",
       "      <td>0.642044</td>\n",
       "      <td>0.996386</td>\n",
       "    </tr>\n",
       "    <tr>\n",
       "      <th>75%</th>\n",
       "      <td>61332.000000</td>\n",
       "      <td>977.213000</td>\n",
       "      <td>376.495012</td>\n",
       "      <td>217.031741</td>\n",
       "      <td>1.707109</td>\n",
       "      <td>0.810466</td>\n",
       "      <td>62294.000000</td>\n",
       "      <td>279.446467</td>\n",
       "      <td>0.786851</td>\n",
       "      <td>0.990013</td>\n",
       "      <td>0.916869</td>\n",
       "      <td>0.834270</td>\n",
       "      <td>0.007271</td>\n",
       "      <td>0.002170</td>\n",
       "      <td>0.696006</td>\n",
       "      <td>0.997883</td>\n",
       "    </tr>\n",
       "    <tr>\n",
       "      <th>max</th>\n",
       "      <td>254616.000000</td>\n",
       "      <td>1985.370000</td>\n",
       "      <td>738.860154</td>\n",
       "      <td>460.198497</td>\n",
       "      <td>2.430306</td>\n",
       "      <td>0.911423</td>\n",
       "      <td>263261.000000</td>\n",
       "      <td>569.374358</td>\n",
       "      <td>0.866195</td>\n",
       "      <td>0.994677</td>\n",
       "      <td>0.990685</td>\n",
       "      <td>0.987303</td>\n",
       "      <td>0.010451</td>\n",
       "      <td>0.003665</td>\n",
       "      <td>0.974767</td>\n",
       "      <td>0.999733</td>\n",
       "    </tr>\n",
       "  </tbody>\n",
       "</table>\n",
       "</div>"
      ],
      "text/plain": [
       "                Area     Perimeter  MajorAxisLength  MinorAxisLength  \\\n",
       "count   13611.000000  13611.000000     13611.000000     13611.000000   \n",
       "mean    53048.284549    855.283459       320.141867       202.270714   \n",
       "std     29324.095717    214.289696        85.694186        44.970091   \n",
       "min     20420.000000    524.736000       183.601165       122.512653   \n",
       "25%     36328.000000    703.523500       253.303633       175.848170   \n",
       "50%     44652.000000    794.941000       296.883367       192.431733   \n",
       "75%     61332.000000    977.213000       376.495012       217.031741   \n",
       "max    254616.000000   1985.370000       738.860154       460.198497   \n",
       "\n",
       "       AspectRation  Eccentricity     ConvexArea  EquivDiameter        Extent  \\\n",
       "count  13611.000000  13611.000000   13611.000000   13611.000000  13611.000000   \n",
       "mean       1.583242      0.750895   53768.200206     253.064220      0.749733   \n",
       "std        0.246678      0.092002   29774.915817      59.177120      0.049086   \n",
       "min        1.024868      0.218951   20684.000000     161.243764      0.555315   \n",
       "25%        1.432307      0.715928   36714.500000     215.068003      0.718634   \n",
       "50%        1.551124      0.764441   45178.000000     238.438026      0.759859   \n",
       "75%        1.707109      0.810466   62294.000000     279.446467      0.786851   \n",
       "max        2.430306      0.911423  263261.000000     569.374358      0.866195   \n",
       "\n",
       "           Solidity     roundness   Compactness  ShapeFactor1  ShapeFactor2  \\\n",
       "count  13611.000000  13611.000000  13611.000000  13611.000000  13611.000000   \n",
       "mean       0.987143      0.873282      0.799864      0.006564      0.001716   \n",
       "std        0.004660      0.059520      0.061713      0.001128      0.000596   \n",
       "min        0.919246      0.489618      0.640577      0.002778      0.000564   \n",
       "25%        0.985670      0.832096      0.762469      0.005900      0.001154   \n",
       "50%        0.988283      0.883157      0.801277      0.006645      0.001694   \n",
       "75%        0.990013      0.916869      0.834270      0.007271      0.002170   \n",
       "max        0.994677      0.990685      0.987303      0.010451      0.003665   \n",
       "\n",
       "       ShapeFactor3  ShapeFactor4  \n",
       "count  13611.000000  13611.000000  \n",
       "mean       0.643590      0.995063  \n",
       "std        0.098996      0.004366  \n",
       "min        0.410339      0.947687  \n",
       "25%        0.581359      0.993703  \n",
       "50%        0.642044      0.996386  \n",
       "75%        0.696006      0.997883  \n",
       "max        0.974767      0.999733  "
      ]
     },
     "execution_count": 5,
     "metadata": {},
     "output_type": "execute_result"
    }
   ],
   "source": [
    "drybean.describe()"
   ]
  },
  {
   "cell_type": "code",
   "execution_count": 6,
   "id": "c1156c4c-4b12-4e0c-a0ba-544013189993",
   "metadata": {},
   "outputs": [
    {
     "data": {
      "text/plain": [
       "(13611, 17)"
      ]
     },
     "execution_count": 6,
     "metadata": {},
     "output_type": "execute_result"
    }
   ],
   "source": [
    "drybean.shape"
   ]
  },
  {
   "cell_type": "code",
   "execution_count": 7,
   "id": "6272f9d0-4abe-42cd-8a09-5352cbf1f037",
   "metadata": {},
   "outputs": [
    {
     "name": "stdout",
     "output_type": "stream",
     "text": [
      "<class 'pandas.core.frame.DataFrame'>\n",
      "RangeIndex: 13611 entries, 0 to 13610\n",
      "Data columns (total 17 columns):\n",
      " #   Column           Non-Null Count  Dtype  \n",
      "---  ------           --------------  -----  \n",
      " 0   Area             13611 non-null  int64  \n",
      " 1   Perimeter        13611 non-null  float64\n",
      " 2   MajorAxisLength  13611 non-null  float64\n",
      " 3   MinorAxisLength  13611 non-null  float64\n",
      " 4   AspectRation     13611 non-null  float64\n",
      " 5   Eccentricity     13611 non-null  float64\n",
      " 6   ConvexArea       13611 non-null  int64  \n",
      " 7   EquivDiameter    13611 non-null  float64\n",
      " 8   Extent           13611 non-null  float64\n",
      " 9   Solidity         13611 non-null  float64\n",
      " 10  roundness        13611 non-null  float64\n",
      " 11  Compactness      13611 non-null  float64\n",
      " 12  ShapeFactor1     13611 non-null  float64\n",
      " 13  ShapeFactor2     13611 non-null  float64\n",
      " 14  ShapeFactor3     13611 non-null  float64\n",
      " 15  ShapeFactor4     13611 non-null  float64\n",
      " 16  Class            13611 non-null  object \n",
      "dtypes: float64(14), int64(2), object(1)\n",
      "memory usage: 1.8+ MB\n"
     ]
    }
   ],
   "source": [
    "drybean.info()"
   ]
  },
  {
   "cell_type": "code",
   "execution_count": 8,
   "id": "e899de2c-b3bc-47f8-87d4-8ad53eae6e29",
   "metadata": {},
   "outputs": [
    {
     "data": {
      "text/plain": [
       "Area               0\n",
       "Perimeter          0\n",
       "MajorAxisLength    0\n",
       "MinorAxisLength    0\n",
       "AspectRation       0\n",
       "Eccentricity       0\n",
       "ConvexArea         0\n",
       "EquivDiameter      0\n",
       "Extent             0\n",
       "Solidity           0\n",
       "roundness          0\n",
       "Compactness        0\n",
       "ShapeFactor1       0\n",
       "ShapeFactor2       0\n",
       "ShapeFactor3       0\n",
       "ShapeFactor4       0\n",
       "Class              0\n",
       "dtype: int64"
      ]
     },
     "execution_count": 8,
     "metadata": {},
     "output_type": "execute_result"
    }
   ],
   "source": [
    "drybean.isnull().sum()"
   ]
  },
  {
   "cell_type": "code",
   "execution_count": 12,
   "id": "48217136-4b00-4eb5-ab4f-4158bd737952",
   "metadata": {},
   "outputs": [
    {
     "data": {
      "text/plain": [
       "68"
      ]
     },
     "execution_count": 12,
     "metadata": {},
     "output_type": "execute_result"
    }
   ],
   "source": [
    "drybean.duplicated().sum()"
   ]
  },
  {
   "cell_type": "code",
   "execution_count": 14,
   "id": "92ae78d3-66dd-48a3-86fa-fd318496df76",
   "metadata": {},
   "outputs": [],
   "source": [
    "drybean.drop_duplicates(inplace=True)"
   ]
  },
  {
   "cell_type": "code",
   "execution_count": 16,
   "id": "98faff9b-5f1b-41d6-aaae-4e9bb379b866",
   "metadata": {},
   "outputs": [
    {
     "data": {
      "text/plain": [
       "0"
      ]
     },
     "execution_count": 16,
     "metadata": {},
     "output_type": "execute_result"
    }
   ],
   "source": [
    "drybean.duplicated().sum()"
   ]
  },
  {
   "cell_type": "code",
   "execution_count": 18,
   "id": "189cfa12-5b87-4902-afb5-e27ef162d5ae",
   "metadata": {},
   "outputs": [
    {
     "data": {
      "text/plain": [
       "(13543, 17)"
      ]
     },
     "execution_count": 18,
     "metadata": {},
     "output_type": "execute_result"
    }
   ],
   "source": [
    "drybean.shape"
   ]
  },
  {
   "cell_type": "code",
   "execution_count": 20,
   "id": "a015a63a-c01b-4db4-924a-b914c22c2c4a",
   "metadata": {},
   "outputs": [
    {
     "data": {
      "text/plain": [
       "array(['SEKER', 'BARBUNYA', 'BOMBAY', 'CALI', 'HOROZ', 'SIRA', 'DERMASON'],\n",
       "      dtype=object)"
      ]
     },
     "execution_count": 20,
     "metadata": {},
     "output_type": "execute_result"
    }
   ],
   "source": [
    "#[]={}:\n",
    "drybean['Class'].unique()"
   ]
  },
  {
   "cell_type": "code",
   "execution_count": 21,
   "id": "80d49c61-928f-465a-9f6f-cdddaba20330",
   "metadata": {},
   "outputs": [
    {
     "data": {
      "text/plain": [
       "0        0\n",
       "1        0\n",
       "2        0\n",
       "3        0\n",
       "4        0\n",
       "        ..\n",
       "13606    6\n",
       "13607    6\n",
       "13608    6\n",
       "13609    6\n",
       "13610    6\n",
       "Name: Class, Length: 13543, dtype: int64"
      ]
     },
     "execution_count": 21,
     "metadata": {},
     "output_type": "execute_result"
    }
   ],
   "source": [
    "drybean['Class']=drybean['Class'].map({'SEKER':0, 'BARBUNYA':1, 'BOMBAY':2, 'CALI':3, 'HOROZ':4, 'SIRA':5, 'DERMASON':6})\n",
    "drybean['Class']"
   ]
  },
  {
   "cell_type": "code",
   "execution_count": 22,
   "id": "cae18ac6-9e5f-4081-a1e7-3e69fb350b3f",
   "metadata": {},
   "outputs": [
    {
     "data": {
      "text/plain": [
       "array([0, 1, 2, 3, 4, 5, 6])"
      ]
     },
     "execution_count": 22,
     "metadata": {},
     "output_type": "execute_result"
    }
   ],
   "source": [
    "drybean['Class'].unique()"
   ]
  },
  {
   "cell_type": "code",
   "execution_count": 23,
   "id": "ebe4eee7-7b33-41fd-9597-1b43d38ad464",
   "metadata": {},
   "outputs": [],
   "source": [
    "#spliting dataset into train and split now\n",
    "\n",
    "X=drybean.drop('Class',axis=1)\n",
    "y=drybean['Class']"
   ]
  },
  {
   "cell_type": "code",
   "execution_count": 24,
   "id": "5f6b852d-e292-4014-94df-bead5094978b",
   "metadata": {},
   "outputs": [
    {
     "data": {
      "text/html": [
       "<div>\n",
       "<style scoped>\n",
       "    .dataframe tbody tr th:only-of-type {\n",
       "        vertical-align: middle;\n",
       "    }\n",
       "\n",
       "    .dataframe tbody tr th {\n",
       "        vertical-align: top;\n",
       "    }\n",
       "\n",
       "    .dataframe thead th {\n",
       "        text-align: right;\n",
       "    }\n",
       "</style>\n",
       "<table border=\"1\" class=\"dataframe\">\n",
       "  <thead>\n",
       "    <tr style=\"text-align: right;\">\n",
       "      <th></th>\n",
       "      <th>Area</th>\n",
       "      <th>Perimeter</th>\n",
       "      <th>MajorAxisLength</th>\n",
       "      <th>MinorAxisLength</th>\n",
       "      <th>AspectRation</th>\n",
       "      <th>Eccentricity</th>\n",
       "      <th>ConvexArea</th>\n",
       "      <th>EquivDiameter</th>\n",
       "      <th>Extent</th>\n",
       "      <th>Solidity</th>\n",
       "      <th>roundness</th>\n",
       "      <th>Compactness</th>\n",
       "      <th>ShapeFactor1</th>\n",
       "      <th>ShapeFactor2</th>\n",
       "      <th>ShapeFactor3</th>\n",
       "      <th>ShapeFactor4</th>\n",
       "    </tr>\n",
       "  </thead>\n",
       "  <tbody>\n",
       "    <tr>\n",
       "      <th>0</th>\n",
       "      <td>28395</td>\n",
       "      <td>610.291</td>\n",
       "      <td>208.178117</td>\n",
       "      <td>173.888747</td>\n",
       "      <td>1.197191</td>\n",
       "      <td>0.549812</td>\n",
       "      <td>28715</td>\n",
       "      <td>190.141097</td>\n",
       "      <td>0.763923</td>\n",
       "      <td>0.988856</td>\n",
       "      <td>0.958027</td>\n",
       "      <td>0.913358</td>\n",
       "      <td>0.007332</td>\n",
       "      <td>0.003147</td>\n",
       "      <td>0.834222</td>\n",
       "      <td>0.998724</td>\n",
       "    </tr>\n",
       "    <tr>\n",
       "      <th>1</th>\n",
       "      <td>28734</td>\n",
       "      <td>638.018</td>\n",
       "      <td>200.524796</td>\n",
       "      <td>182.734419</td>\n",
       "      <td>1.097356</td>\n",
       "      <td>0.411785</td>\n",
       "      <td>29172</td>\n",
       "      <td>191.272751</td>\n",
       "      <td>0.783968</td>\n",
       "      <td>0.984986</td>\n",
       "      <td>0.887034</td>\n",
       "      <td>0.953861</td>\n",
       "      <td>0.006979</td>\n",
       "      <td>0.003564</td>\n",
       "      <td>0.909851</td>\n",
       "      <td>0.998430</td>\n",
       "    </tr>\n",
       "    <tr>\n",
       "      <th>2</th>\n",
       "      <td>29380</td>\n",
       "      <td>624.110</td>\n",
       "      <td>212.826130</td>\n",
       "      <td>175.931143</td>\n",
       "      <td>1.209713</td>\n",
       "      <td>0.562727</td>\n",
       "      <td>29690</td>\n",
       "      <td>193.410904</td>\n",
       "      <td>0.778113</td>\n",
       "      <td>0.989559</td>\n",
       "      <td>0.947849</td>\n",
       "      <td>0.908774</td>\n",
       "      <td>0.007244</td>\n",
       "      <td>0.003048</td>\n",
       "      <td>0.825871</td>\n",
       "      <td>0.999066</td>\n",
       "    </tr>\n",
       "    <tr>\n",
       "      <th>3</th>\n",
       "      <td>30008</td>\n",
       "      <td>645.884</td>\n",
       "      <td>210.557999</td>\n",
       "      <td>182.516516</td>\n",
       "      <td>1.153638</td>\n",
       "      <td>0.498616</td>\n",
       "      <td>30724</td>\n",
       "      <td>195.467062</td>\n",
       "      <td>0.782681</td>\n",
       "      <td>0.976696</td>\n",
       "      <td>0.903936</td>\n",
       "      <td>0.928329</td>\n",
       "      <td>0.007017</td>\n",
       "      <td>0.003215</td>\n",
       "      <td>0.861794</td>\n",
       "      <td>0.994199</td>\n",
       "    </tr>\n",
       "    <tr>\n",
       "      <th>4</th>\n",
       "      <td>30140</td>\n",
       "      <td>620.134</td>\n",
       "      <td>201.847882</td>\n",
       "      <td>190.279279</td>\n",
       "      <td>1.060798</td>\n",
       "      <td>0.333680</td>\n",
       "      <td>30417</td>\n",
       "      <td>195.896503</td>\n",
       "      <td>0.773098</td>\n",
       "      <td>0.990893</td>\n",
       "      <td>0.984877</td>\n",
       "      <td>0.970516</td>\n",
       "      <td>0.006697</td>\n",
       "      <td>0.003665</td>\n",
       "      <td>0.941900</td>\n",
       "      <td>0.999166</td>\n",
       "    </tr>\n",
       "    <tr>\n",
       "      <th>...</th>\n",
       "      <td>...</td>\n",
       "      <td>...</td>\n",
       "      <td>...</td>\n",
       "      <td>...</td>\n",
       "      <td>...</td>\n",
       "      <td>...</td>\n",
       "      <td>...</td>\n",
       "      <td>...</td>\n",
       "      <td>...</td>\n",
       "      <td>...</td>\n",
       "      <td>...</td>\n",
       "      <td>...</td>\n",
       "      <td>...</td>\n",
       "      <td>...</td>\n",
       "      <td>...</td>\n",
       "      <td>...</td>\n",
       "    </tr>\n",
       "    <tr>\n",
       "      <th>13606</th>\n",
       "      <td>42097</td>\n",
       "      <td>759.696</td>\n",
       "      <td>288.721612</td>\n",
       "      <td>185.944705</td>\n",
       "      <td>1.552728</td>\n",
       "      <td>0.765002</td>\n",
       "      <td>42508</td>\n",
       "      <td>231.515799</td>\n",
       "      <td>0.714574</td>\n",
       "      <td>0.990331</td>\n",
       "      <td>0.916603</td>\n",
       "      <td>0.801865</td>\n",
       "      <td>0.006858</td>\n",
       "      <td>0.001749</td>\n",
       "      <td>0.642988</td>\n",
       "      <td>0.998385</td>\n",
       "    </tr>\n",
       "    <tr>\n",
       "      <th>13607</th>\n",
       "      <td>42101</td>\n",
       "      <td>757.499</td>\n",
       "      <td>281.576392</td>\n",
       "      <td>190.713136</td>\n",
       "      <td>1.476439</td>\n",
       "      <td>0.735702</td>\n",
       "      <td>42494</td>\n",
       "      <td>231.526798</td>\n",
       "      <td>0.799943</td>\n",
       "      <td>0.990752</td>\n",
       "      <td>0.922015</td>\n",
       "      <td>0.822252</td>\n",
       "      <td>0.006688</td>\n",
       "      <td>0.001886</td>\n",
       "      <td>0.676099</td>\n",
       "      <td>0.998219</td>\n",
       "    </tr>\n",
       "    <tr>\n",
       "      <th>13608</th>\n",
       "      <td>42139</td>\n",
       "      <td>759.321</td>\n",
       "      <td>281.539928</td>\n",
       "      <td>191.187979</td>\n",
       "      <td>1.472582</td>\n",
       "      <td>0.734065</td>\n",
       "      <td>42569</td>\n",
       "      <td>231.631261</td>\n",
       "      <td>0.729932</td>\n",
       "      <td>0.989899</td>\n",
       "      <td>0.918424</td>\n",
       "      <td>0.822730</td>\n",
       "      <td>0.006681</td>\n",
       "      <td>0.001888</td>\n",
       "      <td>0.676884</td>\n",
       "      <td>0.996767</td>\n",
       "    </tr>\n",
       "    <tr>\n",
       "      <th>13609</th>\n",
       "      <td>42147</td>\n",
       "      <td>763.779</td>\n",
       "      <td>283.382636</td>\n",
       "      <td>190.275731</td>\n",
       "      <td>1.489326</td>\n",
       "      <td>0.741055</td>\n",
       "      <td>42667</td>\n",
       "      <td>231.653247</td>\n",
       "      <td>0.705389</td>\n",
       "      <td>0.987813</td>\n",
       "      <td>0.907906</td>\n",
       "      <td>0.817457</td>\n",
       "      <td>0.006724</td>\n",
       "      <td>0.001852</td>\n",
       "      <td>0.668237</td>\n",
       "      <td>0.995222</td>\n",
       "    </tr>\n",
       "    <tr>\n",
       "      <th>13610</th>\n",
       "      <td>42159</td>\n",
       "      <td>772.237</td>\n",
       "      <td>295.142741</td>\n",
       "      <td>182.204716</td>\n",
       "      <td>1.619841</td>\n",
       "      <td>0.786693</td>\n",
       "      <td>42600</td>\n",
       "      <td>231.686223</td>\n",
       "      <td>0.788962</td>\n",
       "      <td>0.989648</td>\n",
       "      <td>0.888380</td>\n",
       "      <td>0.784997</td>\n",
       "      <td>0.007001</td>\n",
       "      <td>0.001640</td>\n",
       "      <td>0.616221</td>\n",
       "      <td>0.998180</td>\n",
       "    </tr>\n",
       "  </tbody>\n",
       "</table>\n",
       "<p>13543 rows × 16 columns</p>\n",
       "</div>"
      ],
      "text/plain": [
       "        Area  Perimeter  MajorAxisLength  MinorAxisLength  AspectRation  \\\n",
       "0      28395    610.291       208.178117       173.888747      1.197191   \n",
       "1      28734    638.018       200.524796       182.734419      1.097356   \n",
       "2      29380    624.110       212.826130       175.931143      1.209713   \n",
       "3      30008    645.884       210.557999       182.516516      1.153638   \n",
       "4      30140    620.134       201.847882       190.279279      1.060798   \n",
       "...      ...        ...              ...              ...           ...   \n",
       "13606  42097    759.696       288.721612       185.944705      1.552728   \n",
       "13607  42101    757.499       281.576392       190.713136      1.476439   \n",
       "13608  42139    759.321       281.539928       191.187979      1.472582   \n",
       "13609  42147    763.779       283.382636       190.275731      1.489326   \n",
       "13610  42159    772.237       295.142741       182.204716      1.619841   \n",
       "\n",
       "       Eccentricity  ConvexArea  EquivDiameter    Extent  Solidity  roundness  \\\n",
       "0          0.549812       28715     190.141097  0.763923  0.988856   0.958027   \n",
       "1          0.411785       29172     191.272751  0.783968  0.984986   0.887034   \n",
       "2          0.562727       29690     193.410904  0.778113  0.989559   0.947849   \n",
       "3          0.498616       30724     195.467062  0.782681  0.976696   0.903936   \n",
       "4          0.333680       30417     195.896503  0.773098  0.990893   0.984877   \n",
       "...             ...         ...            ...       ...       ...        ...   \n",
       "13606      0.765002       42508     231.515799  0.714574  0.990331   0.916603   \n",
       "13607      0.735702       42494     231.526798  0.799943  0.990752   0.922015   \n",
       "13608      0.734065       42569     231.631261  0.729932  0.989899   0.918424   \n",
       "13609      0.741055       42667     231.653247  0.705389  0.987813   0.907906   \n",
       "13610      0.786693       42600     231.686223  0.788962  0.989648   0.888380   \n",
       "\n",
       "       Compactness  ShapeFactor1  ShapeFactor2  ShapeFactor3  ShapeFactor4  \n",
       "0         0.913358      0.007332      0.003147      0.834222      0.998724  \n",
       "1         0.953861      0.006979      0.003564      0.909851      0.998430  \n",
       "2         0.908774      0.007244      0.003048      0.825871      0.999066  \n",
       "3         0.928329      0.007017      0.003215      0.861794      0.994199  \n",
       "4         0.970516      0.006697      0.003665      0.941900      0.999166  \n",
       "...            ...           ...           ...           ...           ...  \n",
       "13606     0.801865      0.006858      0.001749      0.642988      0.998385  \n",
       "13607     0.822252      0.006688      0.001886      0.676099      0.998219  \n",
       "13608     0.822730      0.006681      0.001888      0.676884      0.996767  \n",
       "13609     0.817457      0.006724      0.001852      0.668237      0.995222  \n",
       "13610     0.784997      0.007001      0.001640      0.616221      0.998180  \n",
       "\n",
       "[13543 rows x 16 columns]"
      ]
     },
     "execution_count": 24,
     "metadata": {},
     "output_type": "execute_result"
    }
   ],
   "source": [
    "X"
   ]
  },
  {
   "cell_type": "code",
   "execution_count": 25,
   "id": "7b23c350-960b-49ee-b3e0-617734802e85",
   "metadata": {},
   "outputs": [
    {
     "data": {
      "text/plain": [
       "0        0\n",
       "1        0\n",
       "2        0\n",
       "3        0\n",
       "4        0\n",
       "        ..\n",
       "13606    6\n",
       "13607    6\n",
       "13608    6\n",
       "13609    6\n",
       "13610    6\n",
       "Name: Class, Length: 13543, dtype: int64"
      ]
     },
     "execution_count": 25,
     "metadata": {},
     "output_type": "execute_result"
    }
   ],
   "source": [
    "y"
   ]
  },
  {
   "cell_type": "code",
   "execution_count": 27,
   "id": "a3f76ed0-e10a-40b2-a122-68354512c19f",
   "metadata": {},
   "outputs": [],
   "source": [
    "from sklearn.model_selection import train_test_split\n",
    "X_train,X_test,y_train,y_test=train_test_split(X,y,test_size=0.2)\n"
   ]
  },
  {
   "cell_type": "code",
   "execution_count": 28,
   "id": "4bd20584-f62e-416e-b6f5-8b6d75b77a46",
   "metadata": {},
   "outputs": [
    {
     "data": {
      "text/plain": [
       "(10834, 16)"
      ]
     },
     "execution_count": 28,
     "metadata": {},
     "output_type": "execute_result"
    }
   ],
   "source": [
    "X_train.shape"
   ]
  },
  {
   "cell_type": "code",
   "execution_count": 29,
   "id": "ffb35fc2-ac7d-469a-a7aa-0461c4b02fed",
   "metadata": {},
   "outputs": [
    {
     "data": {
      "text/html": [
       "<div>\n",
       "<style scoped>\n",
       "    .dataframe tbody tr th:only-of-type {\n",
       "        vertical-align: middle;\n",
       "    }\n",
       "\n",
       "    .dataframe tbody tr th {\n",
       "        vertical-align: top;\n",
       "    }\n",
       "\n",
       "    .dataframe thead th {\n",
       "        text-align: right;\n",
       "    }\n",
       "</style>\n",
       "<table border=\"1\" class=\"dataframe\">\n",
       "  <thead>\n",
       "    <tr style=\"text-align: right;\">\n",
       "      <th></th>\n",
       "      <th>Area</th>\n",
       "      <th>Perimeter</th>\n",
       "      <th>MajorAxisLength</th>\n",
       "      <th>MinorAxisLength</th>\n",
       "      <th>AspectRation</th>\n",
       "      <th>Eccentricity</th>\n",
       "      <th>ConvexArea</th>\n",
       "      <th>EquivDiameter</th>\n",
       "      <th>Extent</th>\n",
       "      <th>Solidity</th>\n",
       "      <th>roundness</th>\n",
       "      <th>Compactness</th>\n",
       "      <th>ShapeFactor1</th>\n",
       "      <th>ShapeFactor2</th>\n",
       "      <th>ShapeFactor3</th>\n",
       "      <th>ShapeFactor4</th>\n",
       "    </tr>\n",
       "  </thead>\n",
       "  <tbody>\n",
       "    <tr>\n",
       "      <th>8744</th>\n",
       "      <td>44580</td>\n",
       "      <td>789.579</td>\n",
       "      <td>302.344412</td>\n",
       "      <td>188.258201</td>\n",
       "      <td>1.606009</td>\n",
       "      <td>0.782491</td>\n",
       "      <td>45068</td>\n",
       "      <td>238.245711</td>\n",
       "      <td>0.799986</td>\n",
       "      <td>0.989172</td>\n",
       "      <td>0.898584</td>\n",
       "      <td>0.787994</td>\n",
       "      <td>0.006782</td>\n",
       "      <td>0.001613</td>\n",
       "      <td>0.620935</td>\n",
       "      <td>0.997228</td>\n",
       "    </tr>\n",
       "    <tr>\n",
       "      <th>11979</th>\n",
       "      <td>32474</td>\n",
       "      <td>665.816</td>\n",
       "      <td>248.287791</td>\n",
       "      <td>166.752275</td>\n",
       "      <td>1.488962</td>\n",
       "      <td>0.740906</td>\n",
       "      <td>32802</td>\n",
       "      <td>203.340062</td>\n",
       "      <td>0.787516</td>\n",
       "      <td>0.990001</td>\n",
       "      <td>0.920528</td>\n",
       "      <td>0.818969</td>\n",
       "      <td>0.007646</td>\n",
       "      <td>0.002122</td>\n",
       "      <td>0.670711</td>\n",
       "      <td>0.998663</td>\n",
       "    </tr>\n",
       "    <tr>\n",
       "      <th>4278</th>\n",
       "      <td>69343</td>\n",
       "      <td>1042.187</td>\n",
       "      <td>404.923588</td>\n",
       "      <td>220.655462</td>\n",
       "      <td>1.835094</td>\n",
       "      <td>0.838481</td>\n",
       "      <td>70228</td>\n",
       "      <td>297.136753</td>\n",
       "      <td>0.755568</td>\n",
       "      <td>0.987398</td>\n",
       "      <td>0.802271</td>\n",
       "      <td>0.733809</td>\n",
       "      <td>0.005839</td>\n",
       "      <td>0.001044</td>\n",
       "      <td>0.538476</td>\n",
       "      <td>0.988155</td>\n",
       "    </tr>\n",
       "    <tr>\n",
       "      <th>1637</th>\n",
       "      <td>43880</td>\n",
       "      <td>758.336</td>\n",
       "      <td>275.647687</td>\n",
       "      <td>202.968522</td>\n",
       "      <td>1.358081</td>\n",
       "      <td>0.676619</td>\n",
       "      <td>44179</td>\n",
       "      <td>236.367830</td>\n",
       "      <td>0.796746</td>\n",
       "      <td>0.993232</td>\n",
       "      <td>0.958855</td>\n",
       "      <td>0.857500</td>\n",
       "      <td>0.006282</td>\n",
       "      <td>0.002095</td>\n",
       "      <td>0.735306</td>\n",
       "      <td>0.998605</td>\n",
       "    </tr>\n",
       "    <tr>\n",
       "      <th>12318</th>\n",
       "      <td>33788</td>\n",
       "      <td>684.233</td>\n",
       "      <td>248.785447</td>\n",
       "      <td>173.518502</td>\n",
       "      <td>1.433769</td>\n",
       "      <td>0.716621</td>\n",
       "      <td>34250</td>\n",
       "      <td>207.413157</td>\n",
       "      <td>0.778884</td>\n",
       "      <td>0.986511</td>\n",
       "      <td>0.906910</td>\n",
       "      <td>0.833703</td>\n",
       "      <td>0.007363</td>\n",
       "      <td>0.002194</td>\n",
       "      <td>0.695061</td>\n",
       "      <td>0.996556</td>\n",
       "    </tr>\n",
       "    <tr>\n",
       "      <th>...</th>\n",
       "      <td>...</td>\n",
       "      <td>...</td>\n",
       "      <td>...</td>\n",
       "      <td>...</td>\n",
       "      <td>...</td>\n",
       "      <td>...</td>\n",
       "      <td>...</td>\n",
       "      <td>...</td>\n",
       "      <td>...</td>\n",
       "      <td>...</td>\n",
       "      <td>...</td>\n",
       "      <td>...</td>\n",
       "      <td>...</td>\n",
       "      <td>...</td>\n",
       "      <td>...</td>\n",
       "      <td>...</td>\n",
       "    </tr>\n",
       "    <tr>\n",
       "      <th>863</th>\n",
       "      <td>38457</td>\n",
       "      <td>710.385</td>\n",
       "      <td>240.696457</td>\n",
       "      <td>203.770317</td>\n",
       "      <td>1.181215</td>\n",
       "      <td>0.532252</td>\n",
       "      <td>38801</td>\n",
       "      <td>221.280304</td>\n",
       "      <td>0.778986</td>\n",
       "      <td>0.991134</td>\n",
       "      <td>0.957630</td>\n",
       "      <td>0.919333</td>\n",
       "      <td>0.006259</td>\n",
       "      <td>0.002758</td>\n",
       "      <td>0.845174</td>\n",
       "      <td>0.998332</td>\n",
       "    </tr>\n",
       "    <tr>\n",
       "      <th>7116</th>\n",
       "      <td>60735</td>\n",
       "      <td>976.532</td>\n",
       "      <td>407.350069</td>\n",
       "      <td>190.876399</td>\n",
       "      <td>2.134104</td>\n",
       "      <td>0.883421</td>\n",
       "      <td>61411</td>\n",
       "      <td>278.083088</td>\n",
       "      <td>0.751206</td>\n",
       "      <td>0.988992</td>\n",
       "      <td>0.800343</td>\n",
       "      <td>0.682664</td>\n",
       "      <td>0.006707</td>\n",
       "      <td>0.000899</td>\n",
       "      <td>0.466030</td>\n",
       "      <td>0.994556</td>\n",
       "    </tr>\n",
       "    <tr>\n",
       "      <th>9890</th>\n",
       "      <td>51698</td>\n",
       "      <td>884.134</td>\n",
       "      <td>347.203752</td>\n",
       "      <td>190.874592</td>\n",
       "      <td>1.819015</td>\n",
       "      <td>0.835331</td>\n",
       "      <td>52252</td>\n",
       "      <td>256.561762</td>\n",
       "      <td>0.657819</td>\n",
       "      <td>0.989398</td>\n",
       "      <td>0.831089</td>\n",
       "      <td>0.738937</td>\n",
       "      <td>0.006716</td>\n",
       "      <td>0.001235</td>\n",
       "      <td>0.546028</td>\n",
       "      <td>0.993233</td>\n",
       "    </tr>\n",
       "    <tr>\n",
       "      <th>9389</th>\n",
       "      <td>47687</td>\n",
       "      <td>837.565</td>\n",
       "      <td>320.610587</td>\n",
       "      <td>189.961741</td>\n",
       "      <td>1.687764</td>\n",
       "      <td>0.805571</td>\n",
       "      <td>48275</td>\n",
       "      <td>246.408145</td>\n",
       "      <td>0.676795</td>\n",
       "      <td>0.987820</td>\n",
       "      <td>0.854226</td>\n",
       "      <td>0.768559</td>\n",
       "      <td>0.006723</td>\n",
       "      <td>0.001447</td>\n",
       "      <td>0.590683</td>\n",
       "      <td>0.996933</td>\n",
       "    </tr>\n",
       "    <tr>\n",
       "      <th>2272</th>\n",
       "      <td>60918</td>\n",
       "      <td>939.729</td>\n",
       "      <td>347.632703</td>\n",
       "      <td>223.842314</td>\n",
       "      <td>1.553025</td>\n",
       "      <td>0.765106</td>\n",
       "      <td>61747</td>\n",
       "      <td>278.501717</td>\n",
       "      <td>0.821662</td>\n",
       "      <td>0.986574</td>\n",
       "      <td>0.866863</td>\n",
       "      <td>0.801138</td>\n",
       "      <td>0.005707</td>\n",
       "      <td>0.001450</td>\n",
       "      <td>0.641822</td>\n",
       "      <td>0.996765</td>\n",
       "    </tr>\n",
       "  </tbody>\n",
       "</table>\n",
       "<p>10834 rows × 16 columns</p>\n",
       "</div>"
      ],
      "text/plain": [
       "        Area  Perimeter  MajorAxisLength  MinorAxisLength  AspectRation  \\\n",
       "8744   44580    789.579       302.344412       188.258201      1.606009   \n",
       "11979  32474    665.816       248.287791       166.752275      1.488962   \n",
       "4278   69343   1042.187       404.923588       220.655462      1.835094   \n",
       "1637   43880    758.336       275.647687       202.968522      1.358081   \n",
       "12318  33788    684.233       248.785447       173.518502      1.433769   \n",
       "...      ...        ...              ...              ...           ...   \n",
       "863    38457    710.385       240.696457       203.770317      1.181215   \n",
       "7116   60735    976.532       407.350069       190.876399      2.134104   \n",
       "9890   51698    884.134       347.203752       190.874592      1.819015   \n",
       "9389   47687    837.565       320.610587       189.961741      1.687764   \n",
       "2272   60918    939.729       347.632703       223.842314      1.553025   \n",
       "\n",
       "       Eccentricity  ConvexArea  EquivDiameter    Extent  Solidity  roundness  \\\n",
       "8744       0.782491       45068     238.245711  0.799986  0.989172   0.898584   \n",
       "11979      0.740906       32802     203.340062  0.787516  0.990001   0.920528   \n",
       "4278       0.838481       70228     297.136753  0.755568  0.987398   0.802271   \n",
       "1637       0.676619       44179     236.367830  0.796746  0.993232   0.958855   \n",
       "12318      0.716621       34250     207.413157  0.778884  0.986511   0.906910   \n",
       "...             ...         ...            ...       ...       ...        ...   \n",
       "863        0.532252       38801     221.280304  0.778986  0.991134   0.957630   \n",
       "7116       0.883421       61411     278.083088  0.751206  0.988992   0.800343   \n",
       "9890       0.835331       52252     256.561762  0.657819  0.989398   0.831089   \n",
       "9389       0.805571       48275     246.408145  0.676795  0.987820   0.854226   \n",
       "2272       0.765106       61747     278.501717  0.821662  0.986574   0.866863   \n",
       "\n",
       "       Compactness  ShapeFactor1  ShapeFactor2  ShapeFactor3  ShapeFactor4  \n",
       "8744      0.787994      0.006782      0.001613      0.620935      0.997228  \n",
       "11979     0.818969      0.007646      0.002122      0.670711      0.998663  \n",
       "4278      0.733809      0.005839      0.001044      0.538476      0.988155  \n",
       "1637      0.857500      0.006282      0.002095      0.735306      0.998605  \n",
       "12318     0.833703      0.007363      0.002194      0.695061      0.996556  \n",
       "...            ...           ...           ...           ...           ...  \n",
       "863       0.919333      0.006259      0.002758      0.845174      0.998332  \n",
       "7116      0.682664      0.006707      0.000899      0.466030      0.994556  \n",
       "9890      0.738937      0.006716      0.001235      0.546028      0.993233  \n",
       "9389      0.768559      0.006723      0.001447      0.590683      0.996933  \n",
       "2272      0.801138      0.005707      0.001450      0.641822      0.996765  \n",
       "\n",
       "[10834 rows x 16 columns]"
      ]
     },
     "execution_count": 29,
     "metadata": {},
     "output_type": "execute_result"
    }
   ],
   "source": [
    "X_train"
   ]
  },
  {
   "cell_type": "code",
   "execution_count": 30,
   "id": "ddd96b51-722a-4a98-a194-992bf379de0f",
   "metadata": {},
   "outputs": [
    {
     "data": {
      "text/plain": [
       "(2709, 16)"
      ]
     },
     "execution_count": 30,
     "metadata": {},
     "output_type": "execute_result"
    }
   ],
   "source": [
    "X_test.shape"
   ]
  },
  {
   "cell_type": "code",
   "execution_count": 31,
   "id": "944e710d-392b-44bc-b5fb-caa5d2207b09",
   "metadata": {},
   "outputs": [
    {
     "data": {
      "text/html": [
       "<div>\n",
       "<style scoped>\n",
       "    .dataframe tbody tr th:only-of-type {\n",
       "        vertical-align: middle;\n",
       "    }\n",
       "\n",
       "    .dataframe tbody tr th {\n",
       "        vertical-align: top;\n",
       "    }\n",
       "\n",
       "    .dataframe thead th {\n",
       "        text-align: right;\n",
       "    }\n",
       "</style>\n",
       "<table border=\"1\" class=\"dataframe\">\n",
       "  <thead>\n",
       "    <tr style=\"text-align: right;\">\n",
       "      <th></th>\n",
       "      <th>Area</th>\n",
       "      <th>Perimeter</th>\n",
       "      <th>MajorAxisLength</th>\n",
       "      <th>MinorAxisLength</th>\n",
       "      <th>AspectRation</th>\n",
       "      <th>Eccentricity</th>\n",
       "      <th>ConvexArea</th>\n",
       "      <th>EquivDiameter</th>\n",
       "      <th>Extent</th>\n",
       "      <th>Solidity</th>\n",
       "      <th>roundness</th>\n",
       "      <th>Compactness</th>\n",
       "      <th>ShapeFactor1</th>\n",
       "      <th>ShapeFactor2</th>\n",
       "      <th>ShapeFactor3</th>\n",
       "      <th>ShapeFactor4</th>\n",
       "    </tr>\n",
       "  </thead>\n",
       "  <tbody>\n",
       "    <tr>\n",
       "      <th>9081</th>\n",
       "      <td>46119</td>\n",
       "      <td>803.509</td>\n",
       "      <td>308.643198</td>\n",
       "      <td>190.743364</td>\n",
       "      <td>1.618107</td>\n",
       "      <td>0.786173</td>\n",
       "      <td>46546</td>\n",
       "      <td>242.323203</td>\n",
       "      <td>0.722415</td>\n",
       "      <td>0.990826</td>\n",
       "      <td>0.897653</td>\n",
       "      <td>0.785124</td>\n",
       "      <td>0.006692</td>\n",
       "      <td>0.001569</td>\n",
       "      <td>0.616420</td>\n",
       "      <td>0.997433</td>\n",
       "    </tr>\n",
       "    <tr>\n",
       "      <th>4718</th>\n",
       "      <td>75197</td>\n",
       "      <td>1069.437</td>\n",
       "      <td>417.855791</td>\n",
       "      <td>230.925468</td>\n",
       "      <td>1.809483</td>\n",
       "      <td>0.833417</td>\n",
       "      <td>76303</td>\n",
       "      <td>309.424941</td>\n",
       "      <td>0.748676</td>\n",
       "      <td>0.985505</td>\n",
       "      <td>0.826228</td>\n",
       "      <td>0.740507</td>\n",
       "      <td>0.005557</td>\n",
       "      <td>0.001031</td>\n",
       "      <td>0.548350</td>\n",
       "      <td>0.992230</td>\n",
       "    </tr>\n",
       "    <tr>\n",
       "      <th>11121</th>\n",
       "      <td>29261</td>\n",
       "      <td>633.967</td>\n",
       "      <td>231.707309</td>\n",
       "      <td>161.302987</td>\n",
       "      <td>1.436473</td>\n",
       "      <td>0.717897</td>\n",
       "      <td>29600</td>\n",
       "      <td>193.018813</td>\n",
       "      <td>0.772506</td>\n",
       "      <td>0.988547</td>\n",
       "      <td>0.914883</td>\n",
       "      <td>0.833029</td>\n",
       "      <td>0.007919</td>\n",
       "      <td>0.002352</td>\n",
       "      <td>0.693937</td>\n",
       "      <td>0.996821</td>\n",
       "    </tr>\n",
       "    <tr>\n",
       "      <th>4051</th>\n",
       "      <td>65019</td>\n",
       "      <td>985.505</td>\n",
       "      <td>384.250082</td>\n",
       "      <td>217.584557</td>\n",
       "      <td>1.765980</td>\n",
       "      <td>0.824228</td>\n",
       "      <td>66378</td>\n",
       "      <td>287.723412</td>\n",
       "      <td>0.780381</td>\n",
       "      <td>0.979526</td>\n",
       "      <td>0.841264</td>\n",
       "      <td>0.748792</td>\n",
       "      <td>0.005910</td>\n",
       "      <td>0.001146</td>\n",
       "      <td>0.560690</td>\n",
       "      <td>0.990167</td>\n",
       "    </tr>\n",
       "    <tr>\n",
       "      <th>8000</th>\n",
       "      <td>41164</td>\n",
       "      <td>749.228</td>\n",
       "      <td>276.608866</td>\n",
       "      <td>190.395472</td>\n",
       "      <td>1.452812</td>\n",
       "      <td>0.725407</td>\n",
       "      <td>41523</td>\n",
       "      <td>228.935870</td>\n",
       "      <td>0.780952</td>\n",
       "      <td>0.991354</td>\n",
       "      <td>0.921509</td>\n",
       "      <td>0.827652</td>\n",
       "      <td>0.006720</td>\n",
       "      <td>0.001945</td>\n",
       "      <td>0.685008</td>\n",
       "      <td>0.995188</td>\n",
       "    </tr>\n",
       "    <tr>\n",
       "      <th>...</th>\n",
       "      <td>...</td>\n",
       "      <td>...</td>\n",
       "      <td>...</td>\n",
       "      <td>...</td>\n",
       "      <td>...</td>\n",
       "      <td>...</td>\n",
       "      <td>...</td>\n",
       "      <td>...</td>\n",
       "      <td>...</td>\n",
       "      <td>...</td>\n",
       "      <td>...</td>\n",
       "      <td>...</td>\n",
       "      <td>...</td>\n",
       "      <td>...</td>\n",
       "      <td>...</td>\n",
       "      <td>...</td>\n",
       "    </tr>\n",
       "    <tr>\n",
       "      <th>759</th>\n",
       "      <td>37918</td>\n",
       "      <td>701.991</td>\n",
       "      <td>234.783151</td>\n",
       "      <td>205.891601</td>\n",
       "      <td>1.140324</td>\n",
       "      <td>0.480593</td>\n",
       "      <td>38269</td>\n",
       "      <td>219.724139</td>\n",
       "      <td>0.779484</td>\n",
       "      <td>0.990828</td>\n",
       "      <td>0.966924</td>\n",
       "      <td>0.935860</td>\n",
       "      <td>0.006192</td>\n",
       "      <td>0.002930</td>\n",
       "      <td>0.875834</td>\n",
       "      <td>0.998734</td>\n",
       "    </tr>\n",
       "    <tr>\n",
       "      <th>560</th>\n",
       "      <td>36738</td>\n",
       "      <td>690.192</td>\n",
       "      <td>237.932853</td>\n",
       "      <td>197.058423</td>\n",
       "      <td>1.207423</td>\n",
       "      <td>0.560418</td>\n",
       "      <td>37032</td>\n",
       "      <td>216.278234</td>\n",
       "      <td>0.746662</td>\n",
       "      <td>0.992061</td>\n",
       "      <td>0.969138</td>\n",
       "      <td>0.908989</td>\n",
       "      <td>0.006476</td>\n",
       "      <td>0.002727</td>\n",
       "      <td>0.826260</td>\n",
       "      <td>0.997645</td>\n",
       "    </tr>\n",
       "    <tr>\n",
       "      <th>11300</th>\n",
       "      <td>29928</td>\n",
       "      <td>645.731</td>\n",
       "      <td>241.690159</td>\n",
       "      <td>158.112890</td>\n",
       "      <td>1.528592</td>\n",
       "      <td>0.756325</td>\n",
       "      <td>30331</td>\n",
       "      <td>195.206335</td>\n",
       "      <td>0.714511</td>\n",
       "      <td>0.986713</td>\n",
       "      <td>0.901954</td>\n",
       "      <td>0.807672</td>\n",
       "      <td>0.008076</td>\n",
       "      <td>0.002120</td>\n",
       "      <td>0.652334</td>\n",
       "      <td>0.997152</td>\n",
       "    </tr>\n",
       "    <tr>\n",
       "      <th>11304</th>\n",
       "      <td>29957</td>\n",
       "      <td>645.430</td>\n",
       "      <td>240.607960</td>\n",
       "      <td>158.791179</td>\n",
       "      <td>1.515248</td>\n",
       "      <td>0.751302</td>\n",
       "      <td>30376</td>\n",
       "      <td>195.300889</td>\n",
       "      <td>0.741657</td>\n",
       "      <td>0.986206</td>\n",
       "      <td>0.903670</td>\n",
       "      <td>0.811698</td>\n",
       "      <td>0.008032</td>\n",
       "      <td>0.002151</td>\n",
       "      <td>0.658853</td>\n",
       "      <td>0.998325</td>\n",
       "    </tr>\n",
       "    <tr>\n",
       "      <th>12226</th>\n",
       "      <td>33444</td>\n",
       "      <td>677.120</td>\n",
       "      <td>247.868851</td>\n",
       "      <td>172.272097</td>\n",
       "      <td>1.438822</td>\n",
       "      <td>0.718997</td>\n",
       "      <td>33822</td>\n",
       "      <td>206.354606</td>\n",
       "      <td>0.780982</td>\n",
       "      <td>0.988824</td>\n",
       "      <td>0.916636</td>\n",
       "      <td>0.832515</td>\n",
       "      <td>0.007411</td>\n",
       "      <td>0.002196</td>\n",
       "      <td>0.693082</td>\n",
       "      <td>0.997221</td>\n",
       "    </tr>\n",
       "  </tbody>\n",
       "</table>\n",
       "<p>2709 rows × 16 columns</p>\n",
       "</div>"
      ],
      "text/plain": [
       "        Area  Perimeter  MajorAxisLength  MinorAxisLength  AspectRation  \\\n",
       "9081   46119    803.509       308.643198       190.743364      1.618107   \n",
       "4718   75197   1069.437       417.855791       230.925468      1.809483   \n",
       "11121  29261    633.967       231.707309       161.302987      1.436473   \n",
       "4051   65019    985.505       384.250082       217.584557      1.765980   \n",
       "8000   41164    749.228       276.608866       190.395472      1.452812   \n",
       "...      ...        ...              ...              ...           ...   \n",
       "759    37918    701.991       234.783151       205.891601      1.140324   \n",
       "560    36738    690.192       237.932853       197.058423      1.207423   \n",
       "11300  29928    645.731       241.690159       158.112890      1.528592   \n",
       "11304  29957    645.430       240.607960       158.791179      1.515248   \n",
       "12226  33444    677.120       247.868851       172.272097      1.438822   \n",
       "\n",
       "       Eccentricity  ConvexArea  EquivDiameter    Extent  Solidity  roundness  \\\n",
       "9081       0.786173       46546     242.323203  0.722415  0.990826   0.897653   \n",
       "4718       0.833417       76303     309.424941  0.748676  0.985505   0.826228   \n",
       "11121      0.717897       29600     193.018813  0.772506  0.988547   0.914883   \n",
       "4051       0.824228       66378     287.723412  0.780381  0.979526   0.841264   \n",
       "8000       0.725407       41523     228.935870  0.780952  0.991354   0.921509   \n",
       "...             ...         ...            ...       ...       ...        ...   \n",
       "759        0.480593       38269     219.724139  0.779484  0.990828   0.966924   \n",
       "560        0.560418       37032     216.278234  0.746662  0.992061   0.969138   \n",
       "11300      0.756325       30331     195.206335  0.714511  0.986713   0.901954   \n",
       "11304      0.751302       30376     195.300889  0.741657  0.986206   0.903670   \n",
       "12226      0.718997       33822     206.354606  0.780982  0.988824   0.916636   \n",
       "\n",
       "       Compactness  ShapeFactor1  ShapeFactor2  ShapeFactor3  ShapeFactor4  \n",
       "9081      0.785124      0.006692      0.001569      0.616420      0.997433  \n",
       "4718      0.740507      0.005557      0.001031      0.548350      0.992230  \n",
       "11121     0.833029      0.007919      0.002352      0.693937      0.996821  \n",
       "4051      0.748792      0.005910      0.001146      0.560690      0.990167  \n",
       "8000      0.827652      0.006720      0.001945      0.685008      0.995188  \n",
       "...            ...           ...           ...           ...           ...  \n",
       "759       0.935860      0.006192      0.002930      0.875834      0.998734  \n",
       "560       0.908989      0.006476      0.002727      0.826260      0.997645  \n",
       "11300     0.807672      0.008076      0.002120      0.652334      0.997152  \n",
       "11304     0.811698      0.008032      0.002151      0.658853      0.998325  \n",
       "12226     0.832515      0.007411      0.002196      0.693082      0.997221  \n",
       "\n",
       "[2709 rows x 16 columns]"
      ]
     },
     "execution_count": 31,
     "metadata": {},
     "output_type": "execute_result"
    }
   ],
   "source": [
    "X_test"
   ]
  },
  {
   "cell_type": "code",
   "execution_count": 32,
   "id": "8e511b0f-70f9-4ee3-9cb4-96a32f10a93b",
   "metadata": {},
   "outputs": [
    {
     "data": {
      "text/plain": [
       "(10834,)"
      ]
     },
     "execution_count": 32,
     "metadata": {},
     "output_type": "execute_result"
    }
   ],
   "source": [
    "y_train.shape"
   ]
  },
  {
   "cell_type": "code",
   "execution_count": 33,
   "id": "d2580958-cec8-4974-bea0-1a36a94698e5",
   "metadata": {},
   "outputs": [
    {
     "data": {
      "text/plain": [
       "8744     5\n",
       "11979    6\n",
       "4278     3\n",
       "1637     0\n",
       "12318    6\n",
       "        ..\n",
       "863      0\n",
       "7116     4\n",
       "9890     5\n",
       "9389     5\n",
       "2272     1\n",
       "Name: Class, Length: 10834, dtype: int64"
      ]
     },
     "execution_count": 33,
     "metadata": {},
     "output_type": "execute_result"
    }
   ],
   "source": [
    "y_train"
   ]
  },
  {
   "cell_type": "code",
   "execution_count": 34,
   "id": "ae0c467d-cd82-4216-89b0-f186497f0a57",
   "metadata": {},
   "outputs": [
    {
     "data": {
      "text/plain": [
       "(2709,)"
      ]
     },
     "execution_count": 34,
     "metadata": {},
     "output_type": "execute_result"
    }
   ],
   "source": [
    "y_test.shape"
   ]
  },
  {
   "cell_type": "code",
   "execution_count": 35,
   "id": "d6e5dd31-07d0-4b45-8cd1-05666eb95902",
   "metadata": {},
   "outputs": [
    {
     "data": {
      "text/plain": [
       "9081     5\n",
       "4718     3\n",
       "11121    6\n",
       "4051     3\n",
       "8000     5\n",
       "        ..\n",
       "759      0\n",
       "560      0\n",
       "11300    6\n",
       "11304    6\n",
       "12226    6\n",
       "Name: Class, Length: 2709, dtype: int64"
      ]
     },
     "execution_count": 35,
     "metadata": {},
     "output_type": "execute_result"
    }
   ],
   "source": [
    "y_test"
   ]
  },
  {
   "cell_type": "code",
   "execution_count": 36,
   "id": "27c12be0-c160-47f3-84f0-0fc69571a25a",
   "metadata": {},
   "outputs": [],
   "source": [
    "from sklearn.preprocessing import StandardScaler\n",
    "ss=StandardScaler()\n",
    "X_train=ss.fit_transform(X_train)\n",
    "X_test=ss.transform(X_test)"
   ]
  },
  {
   "cell_type": "code",
   "execution_count": 37,
   "id": "dc9e2046-3bba-4667-82f2-c6ea50524c75",
   "metadata": {},
   "outputs": [
    {
     "data": {
      "text/plain": [
       "array([[-0.28847836, -0.30517719, -0.20610681, ..., -0.17545427,\n",
       "        -0.23221038,  0.49409732],\n",
       "       [-0.70041224, -0.88147948, -0.83571623, ...,  0.67784609,\n",
       "         0.27176058,  0.82158872],\n",
       "       [ 0.55413842,  0.87109171,  0.98865556, ..., -1.12929232,\n",
       "        -1.06709875, -1.57667465],\n",
       "       ...,\n",
       "       [-0.0462724 ,  0.13511807,  0.31637985, ..., -0.809346  ,\n",
       "        -0.99063687, -0.41754233],\n",
       "       [-0.18275569, -0.08173043,  0.00664338, ..., -0.45395279,\n",
       "        -0.53851202,  0.42691319],\n",
       "       [ 0.26745884,  0.39399614,  0.32137594, ..., -0.44881921,\n",
       "        -0.02073517,  0.38857755]])"
      ]
     },
     "execution_count": 37,
     "metadata": {},
     "output_type": "execute_result"
    }
   ],
   "source": [
    "X_train"
   ]
  },
  {
   "cell_type": "code",
   "execution_count": 38,
   "id": "58eadfd7-e658-441a-a2f9-a7853faff7c4",
   "metadata": {},
   "outputs": [
    {
     "data": {
      "text/plain": [
       "(10834, 16)"
      ]
     },
     "execution_count": 38,
     "metadata": {},
     "output_type": "execute_result"
    }
   ],
   "source": [
    "X_train.shape"
   ]
  },
  {
   "cell_type": "code",
   "execution_count": 39,
   "id": "d04c8574-6e5b-4efe-9343-89740c4e46f4",
   "metadata": {},
   "outputs": [
    {
     "data": {
      "text/plain": [
       "(2709, 16)"
      ]
     },
     "execution_count": 39,
     "metadata": {},
     "output_type": "execute_result"
    }
   ],
   "source": [
    "X_test.shape"
   ]
  },
  {
   "cell_type": "code",
   "execution_count": 40,
   "id": "9ba404f7-e8fb-4564-abdd-665d6c53c12c",
   "metadata": {},
   "outputs": [
    {
     "data": {
      "text/plain": [
       "array([[-0.23611042, -0.24031216, -0.13274345, ..., -0.24995497,\n",
       "        -0.2779285 ,  0.54101741],\n",
       "       [ 0.75333394,  0.99798131,  1.13927978, ..., -1.15238673,\n",
       "        -0.96712932, -0.64655258],\n",
       "       [-0.80974179, -1.02978432, -1.02883277, ...,  1.06462126,\n",
       "         0.50692179,  0.40125271],\n",
       "       ...,\n",
       "       [-0.78704562, -0.97500526, -0.91256031, ...,  0.67482466,\n",
       "         0.08569717,  0.47692726],\n",
       "       [-0.78605883, -0.97640687, -0.92516492, ...,  0.7265195 ,\n",
       "         0.15170238,  0.74460979],\n",
       "       [-0.66740581, -0.82884242, -0.84059572, ...,  0.80278172,\n",
       "         0.49826557,  0.49258091]])"
      ]
     },
     "execution_count": 40,
     "metadata": {},
     "output_type": "execute_result"
    }
   ],
   "source": [
    "X_test"
   ]
  },
  {
   "cell_type": "code",
   "execution_count": 42,
   "id": "33b25387-9ec8-4807-8bcf-414a696446fd",
   "metadata": {},
   "outputs": [
    {
     "data": {
      "text/html": [
       "<style>#sk-container-id-1 {color: black;background-color: white;}#sk-container-id-1 pre{padding: 0;}#sk-container-id-1 div.sk-toggleable {background-color: white;}#sk-container-id-1 label.sk-toggleable__label {cursor: pointer;display: block;width: 100%;margin-bottom: 0;padding: 0.3em;box-sizing: border-box;text-align: center;}#sk-container-id-1 label.sk-toggleable__label-arrow:before {content: \"▸\";float: left;margin-right: 0.25em;color: #696969;}#sk-container-id-1 label.sk-toggleable__label-arrow:hover:before {color: black;}#sk-container-id-1 div.sk-estimator:hover label.sk-toggleable__label-arrow:before {color: black;}#sk-container-id-1 div.sk-toggleable__content {max-height: 0;max-width: 0;overflow: hidden;text-align: left;background-color: #f0f8ff;}#sk-container-id-1 div.sk-toggleable__content pre {margin: 0.2em;color: black;border-radius: 0.25em;background-color: #f0f8ff;}#sk-container-id-1 input.sk-toggleable__control:checked~div.sk-toggleable__content {max-height: 200px;max-width: 100%;overflow: auto;}#sk-container-id-1 input.sk-toggleable__control:checked~label.sk-toggleable__label-arrow:before {content: \"▾\";}#sk-container-id-1 div.sk-estimator input.sk-toggleable__control:checked~label.sk-toggleable__label {background-color: #d4ebff;}#sk-container-id-1 div.sk-label input.sk-toggleable__control:checked~label.sk-toggleable__label {background-color: #d4ebff;}#sk-container-id-1 input.sk-hidden--visually {border: 0;clip: rect(1px 1px 1px 1px);clip: rect(1px, 1px, 1px, 1px);height: 1px;margin: -1px;overflow: hidden;padding: 0;position: absolute;width: 1px;}#sk-container-id-1 div.sk-estimator {font-family: monospace;background-color: #f0f8ff;border: 1px dotted black;border-radius: 0.25em;box-sizing: border-box;margin-bottom: 0.5em;}#sk-container-id-1 div.sk-estimator:hover {background-color: #d4ebff;}#sk-container-id-1 div.sk-parallel-item::after {content: \"\";width: 100%;border-bottom: 1px solid gray;flex-grow: 1;}#sk-container-id-1 div.sk-label:hover label.sk-toggleable__label {background-color: #d4ebff;}#sk-container-id-1 div.sk-serial::before {content: \"\";position: absolute;border-left: 1px solid gray;box-sizing: border-box;top: 0;bottom: 0;left: 50%;z-index: 0;}#sk-container-id-1 div.sk-serial {display: flex;flex-direction: column;align-items: center;background-color: white;padding-right: 0.2em;padding-left: 0.2em;position: relative;}#sk-container-id-1 div.sk-item {position: relative;z-index: 1;}#sk-container-id-1 div.sk-parallel {display: flex;align-items: stretch;justify-content: center;background-color: white;position: relative;}#sk-container-id-1 div.sk-item::before, #sk-container-id-1 div.sk-parallel-item::before {content: \"\";position: absolute;border-left: 1px solid gray;box-sizing: border-box;top: 0;bottom: 0;left: 50%;z-index: -1;}#sk-container-id-1 div.sk-parallel-item {display: flex;flex-direction: column;z-index: 1;position: relative;background-color: white;}#sk-container-id-1 div.sk-parallel-item:first-child::after {align-self: flex-end;width: 50%;}#sk-container-id-1 div.sk-parallel-item:last-child::after {align-self: flex-start;width: 50%;}#sk-container-id-1 div.sk-parallel-item:only-child::after {width: 0;}#sk-container-id-1 div.sk-dashed-wrapped {border: 1px dashed gray;margin: 0 0.4em 0.5em 0.4em;box-sizing: border-box;padding-bottom: 0.4em;background-color: white;}#sk-container-id-1 div.sk-label label {font-family: monospace;font-weight: bold;display: inline-block;line-height: 1.2em;}#sk-container-id-1 div.sk-label-container {text-align: center;}#sk-container-id-1 div.sk-container {/* jupyter's `normalize.less` sets `[hidden] { display: none; }` but bootstrap.min.css set `[hidden] { display: none !important; }` so we also need the `!important` here to be able to override the default hidden behavior on the sphinx rendered scikit-learn.org. See: https://github.com/scikit-learn/scikit-learn/issues/21755 */display: inline-block !important;position: relative;}#sk-container-id-1 div.sk-text-repr-fallback {display: none;}</style><div id=\"sk-container-id-1\" class=\"sk-top-container\"><div class=\"sk-text-repr-fallback\"><pre>GaussianNB()</pre><b>In a Jupyter environment, please rerun this cell to show the HTML representation or trust the notebook. <br />On GitHub, the HTML representation is unable to render, please try loading this page with nbviewer.org.</b></div><div class=\"sk-container\" hidden><div class=\"sk-item\"><div class=\"sk-estimator sk-toggleable\"><input class=\"sk-toggleable__control sk-hidden--visually\" id=\"sk-estimator-id-1\" type=\"checkbox\" checked><label for=\"sk-estimator-id-1\" class=\"sk-toggleable__label sk-toggleable__label-arrow\">GaussianNB</label><div class=\"sk-toggleable__content\"><pre>GaussianNB()</pre></div></div></div></div></div>"
      ],
      "text/plain": [
       "GaussianNB()"
      ]
     },
     "execution_count": 42,
     "metadata": {},
     "output_type": "execute_result"
    }
   ],
   "source": [
    "from sklearn.naive_bayes import GaussianNB\n",
    "GaNB = GaussianNB()\n",
    "GaNB.fit(X_train,y_train)\n"
   ]
  },
  {
   "cell_type": "code",
   "execution_count": 43,
   "id": "51073b7a-5e45-41e1-996a-24506cc063d7",
   "metadata": {},
   "outputs": [
    {
     "data": {
      "text/plain": [
       "array([5, 3, 6, ..., 6, 6, 6])"
      ]
     },
     "execution_count": 43,
     "metadata": {},
     "output_type": "execute_result"
    }
   ],
   "source": [
    "y_pred=GaNB.predict(X_test)\n",
    "y_pred"
   ]
  },
  {
   "cell_type": "code",
   "execution_count": 44,
   "id": "79d89853-893f-4ee6-9b80-4bc38ba9d89d",
   "metadata": {},
   "outputs": [
    {
     "data": {
      "text/plain": [
       "9081     5\n",
       "4718     3\n",
       "11121    6\n",
       "4051     3\n",
       "8000     5\n",
       "        ..\n",
       "759      0\n",
       "560      0\n",
       "11300    6\n",
       "11304    6\n",
       "12226    6\n",
       "Name: Class, Length: 2709, dtype: int64"
      ]
     },
     "execution_count": 44,
     "metadata": {},
     "output_type": "execute_result"
    }
   ],
   "source": [
    "y_test"
   ]
  },
  {
   "cell_type": "code",
   "execution_count": 46,
   "id": "0a0e3602-c75c-4890-869a-71e4b4e929d4",
   "metadata": {},
   "outputs": [
    {
     "name": "stdout",
     "output_type": "stream",
     "text": [
      "              precision    recall  f1-score   support\n",
      "\n",
      "           0       0.92      0.93      0.93       415\n",
      "           1       0.87      0.81      0.84       272\n",
      "           2       0.98      1.00      0.99        98\n",
      "           3       0.86      0.90      0.88       319\n",
      "           4       0.93      0.96      0.95       351\n",
      "           5       0.83      0.87      0.85       554\n",
      "           6       0.94      0.87      0.90       700\n",
      "\n",
      "    accuracy                           0.89      2709\n",
      "   macro avg       0.90      0.91      0.90      2709\n",
      "weighted avg       0.90      0.89      0.89      2709\n",
      "\n"
     ]
    }
   ],
   "source": [
    "from sklearn.metrics import classification_report\n",
    "print(classification_report(y_test,y_pred))"
   ]
  },
  {
   "cell_type": "code",
   "execution_count": 47,
   "id": "1929c4b5-c130-4f2a-acfc-d1febd9efc02",
   "metadata": {},
   "outputs": [],
   "source": [
    "from sklearn.metrics import accuracy_score,precision_score,recall_score,f1_score"
   ]
  },
  {
   "cell_type": "code",
   "execution_count": 48,
   "id": "6a032af1-e60d-4296-93be-fccaa06b1b83",
   "metadata": {},
   "outputs": [
    {
     "data": {
      "text/plain": [
       "0.8947951273532669"
      ]
     },
     "execution_count": 48,
     "metadata": {},
     "output_type": "execute_result"
    }
   ],
   "source": [
    "a=accuracy_score(y_test,y_pred)\n",
    "a"
   ]
  },
  {
   "cell_type": "code",
   "execution_count": 50,
   "id": "557bf39c-3bb5-44db-9f4f-ce85b48c01f6",
   "metadata": {},
   "outputs": [
    {
     "data": {
      "text/plain": [
       "0.9044498334682064"
      ]
     },
     "execution_count": 50,
     "metadata": {},
     "output_type": "execute_result"
    }
   ],
   "source": [
    "f1=f1_score(y_test,y_pred,average='macro')\n",
    "f1"
   ]
  },
  {
   "cell_type": "code",
   "execution_count": 51,
   "id": "e07d5127-da1e-4bec-8d4b-8f505b2dfdbe",
   "metadata": {},
   "outputs": [
    {
     "data": {
      "text/plain": [
       "0.9070257463004128"
      ]
     },
     "execution_count": 51,
     "metadata": {},
     "output_type": "execute_result"
    }
   ],
   "source": [
    "r=recall_score(y_test,y_pred,average='macro')\n",
    "r"
   ]
  },
  {
   "cell_type": "code",
   "execution_count": 52,
   "id": "0c9249e9-fd5d-4749-ab58-af4b7ca55165",
   "metadata": {},
   "outputs": [
    {
     "data": {
      "text/plain": [
       "0.9028565999036193"
      ]
     },
     "execution_count": 52,
     "metadata": {},
     "output_type": "execute_result"
    }
   ],
   "source": [
    "precision=precision_score(y_test,y_pred,average='macro')\n",
    "precision\n"
   ]
  },
  {
   "cell_type": "code",
   "execution_count": 57,
   "id": "46e9f34a-d1ed-4a6f-860e-66c6d56b3e79",
   "metadata": {},
   "outputs": [],
   "source": [
    "import pickle\n",
    "pickle.dump(GaNB,open('GaussianNB.pkl','wb'))"
   ]
  },
  {
   "cell_type": "code",
   "execution_count": null,
   "id": "af42f2fe-0cbf-45b1-8acc-d7991afccd98",
   "metadata": {},
   "outputs": [],
   "source": [
    "from sklearn.metrics import confusion_"
   ]
  }
 ],
 "metadata": {
  "kernelspec": {
   "display_name": "Python 3 (ipykernel)",
   "language": "python",
   "name": "python3"
  },
  "language_info": {
   "codemirror_mode": {
    "name": "ipython",
    "version": 3
   },
   "file_extension": ".py",
   "mimetype": "text/x-python",
   "name": "python",
   "nbconvert_exporter": "python",
   "pygments_lexer": "ipython3",
   "version": "3.11.7"
  }
 },
 "nbformat": 4,
 "nbformat_minor": 5
}
